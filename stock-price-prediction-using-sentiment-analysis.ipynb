{
 "cells": [
  {
   "cell_type": "code",
   "execution_count": 1,
   "id": "8dba3f7c",
   "metadata": {
    "_cell_guid": "b1076dfc-b9ad-4769-8c92-a6c4dae69d19",
    "_uuid": "8f2839f25d086af736a60e9eeb907d3b93b6e0e5",
    "execution": {
     "iopub.execute_input": "2025-05-04T11:05:30.031335Z",
     "iopub.status.busy": "2025-05-04T11:05:30.028436Z",
     "iopub.status.idle": "2025-05-04T11:05:32.317522Z",
     "shell.execute_reply": "2025-05-04T11:05:32.315755Z"
    },
    "papermill": {
     "duration": 2.309216,
     "end_time": "2025-05-04T11:05:32.319318",
     "exception": false,
     "start_time": "2025-05-04T11:05:30.010102",
     "status": "completed"
    },
    "tags": []
   },
   "outputs": [
    {
     "name": "stdout",
     "output_type": "stream",
     "text": [
      "/kaggle/input/dataset-for-stock-and-tweet/archive (5)/TSLA-2.csv\n",
      "/kaggle/input/dataset-for-stock-and-tweet/archive (5)/HistoricalData_1726367135218.csv\n",
      "/kaggle/input/dataset-for-stock-and-tweet/archive (5)/tsla_2025.csv\n",
      "/kaggle/input/dataset-for-stock-and-tweet/archive (4)/elon_musk_tweets.csv\n",
      "/kaggle/input/dataset-for-stock-and-tweet/archive (4)/wandb/run-20230613_064834-3fmloyay/run-3fmloyay.wandb\n",
      "/kaggle/input/dataset-for-stock-and-tweet/archive (4)/wandb/run-20230613_064834-3fmloyay/logs/debug.log\n",
      "/kaggle/input/dataset-for-stock-and-tweet/archive (4)/wandb/run-20230613_064834-3fmloyay/logs/debug-internal.log\n",
      "/kaggle/input/dataset-for-stock-and-tweet/archive (4)/wandb/run-20230613_064834-3fmloyay/files/wandb-summary.json\n",
      "/kaggle/input/dataset-for-stock-and-tweet/archive (4)/wandb/run-20230613_064834-3fmloyay/files/conda-environment.yaml\n",
      "/kaggle/input/dataset-for-stock-and-tweet/archive (4)/wandb/run-20230613_064834-3fmloyay/files/config.yaml\n",
      "/kaggle/input/dataset-for-stock-and-tweet/archive (4)/wandb/run-20230613_064834-3fmloyay/files/output.log\n",
      "/kaggle/input/dataset-for-stock-and-tweet/archive (4)/wandb/run-20230613_064834-3fmloyay/files/requirements.txt\n",
      "/kaggle/input/dataset-for-stock-and-tweet/archive (4)/wandb/run-20230613_064834-3fmloyay/files/wandb-metadata.json\n"
     ]
    }
   ],
   "source": [
    "# This Python 3 environment comes with many helpful analytics libraries installed\n",
    "# It is defined by the kaggle/python Docker image: https://github.com/kaggle/docker-python\n",
    "# For example, here's several helpful packages to load\n",
    "\n",
    "import numpy as np # linear algebra\n",
    "import pandas as pd # data processing, CSV file I/O (e.g. pd.read_csv)\n",
    "\n",
    "# Input data files are available in the read-only \"../input/\" directory\n",
    "# For example, running this (by clicking run or pressing Shift+Enter) will list all files under the input directory\n",
    "\n",
    "import os\n",
    "for dirname, _, filenames in os.walk('/kaggle/input'):\n",
    "    for filename in filenames:\n",
    "        print(os.path.join(dirname, filename))\n",
    "\n",
    "# You can write up to 20GB to the current directory (/kaggle/working/) that gets preserved as output when you create a version using \"Save & Run All\" \n",
    "# You can also write temporary files to /kaggle/temp/, but they won't be saved outside of the current session"
   ]
  },
  {
   "cell_type": "markdown",
   "id": "efbb0122",
   "metadata": {
    "papermill": {
     "duration": 0.007877,
     "end_time": "2025-05-04T11:05:32.335974",
     "exception": false,
     "start_time": "2025-05-04T11:05:32.328097",
     "status": "completed"
    },
    "tags": []
   },
   "source": [
    "## Step 1: Suppress Warnings\n",
    "_Using warnings filter to ignore runtime warnings for cleaner output during analysis._\n"
   ]
  },
  {
   "cell_type": "code",
   "execution_count": 2,
   "id": "5e6b022d",
   "metadata": {
    "execution": {
     "iopub.execute_input": "2025-05-04T11:05:32.354160Z",
     "iopub.status.busy": "2025-05-04T11:05:32.353700Z",
     "iopub.status.idle": "2025-05-04T11:05:32.358685Z",
     "shell.execute_reply": "2025-05-04T11:05:32.357597Z"
    },
    "papermill": {
     "duration": 0.016066,
     "end_time": "2025-05-04T11:05:32.360397",
     "exception": false,
     "start_time": "2025-05-04T11:05:32.344331",
     "status": "completed"
    },
    "tags": []
   },
   "outputs": [],
   "source": [
    "import warnings\n",
    "warnings.filterwarnings(\"ignore\", category=RuntimeWarning)\n"
   ]
  },
  {
   "cell_type": "markdown",
   "id": "18e46def",
   "metadata": {
    "papermill": {
     "duration": 0.008003,
     "end_time": "2025-05-04T11:05:32.376910",
     "exception": false,
     "start_time": "2025-05-04T11:05:32.368907",
     "status": "completed"
    },
    "tags": []
   },
   "source": [
    "#  Analysis:\n",
    "\n",
    "> Useful for avoiding clutter during execution (e.g., in numerical computations).\n",
    "\n",
    "> Caution: Hiding warnings can mask real issues—use selectively!\n",
    "\n",
    "\n"
   ]
  },
  {
   "cell_type": "markdown",
   "id": "43f32663",
   "metadata": {
    "papermill": {
     "duration": 0.009339,
     "end_time": "2025-05-04T11:05:32.394536",
     "exception": false,
     "start_time": "2025-05-04T11:05:32.385197",
     "status": "completed"
    },
    "tags": []
   },
   "source": [
    "# Step 2: Perform Sentiment Analysis on Tweets\n"
   ]
  },
  {
   "cell_type": "markdown",
   "id": "8540aad3",
   "metadata": {
    "papermill": {
     "duration": 0.008105,
     "end_time": "2025-05-04T11:05:32.411162",
     "exception": false,
     "start_time": "2025-05-04T11:05:32.403057",
     "status": "completed"
    },
    "tags": []
   },
   "source": [
    "## 2.1: Load and Inspect Elon Musk Tweets\n",
    "\n",
    "> Loads Elon Musk’s tweets from a CSV file into a Pandas DataFrame.\n",
    "\n",
    "> Displays the first 5 rows (tweets_df.head()) and checks for missing values in date and text columns.\n",
    "\n",
    "\n",
    "\n"
   ]
  },
  {
   "cell_type": "code",
   "execution_count": 3,
   "id": "406135d5",
   "metadata": {
    "execution": {
     "iopub.execute_input": "2025-05-04T11:05:32.430628Z",
     "iopub.status.busy": "2025-05-04T11:05:32.430270Z",
     "iopub.status.idle": "2025-05-04T11:05:35.274902Z",
     "shell.execute_reply": "2025-05-04T11:05:35.273698Z"
    },
    "papermill": {
     "duration": 2.856837,
     "end_time": "2025-05-04T11:05:35.276724",
     "exception": false,
     "start_time": "2025-05-04T11:05:32.419887",
     "status": "completed"
    },
    "tags": []
   },
   "outputs": [
    {
     "name": "stdout",
     "output_type": "stream",
     "text": [
      "                    id  user_name user_location           user_description  \\\n",
      "0  1544379368478212100  Elon Musk           NaN  Mars & Cars, Chips & Dips   \n",
      "1  1544377493263720450  Elon Musk           NaN  Mars & Cars, Chips & Dips   \n",
      "2  1544377130590552064  Elon Musk           NaN  Mars & Cars, Chips & Dips   \n",
      "3  1544375575724400645  Elon Musk           NaN  Mars & Cars, Chips & Dips   \n",
      "4  1544375148605853699  Elon Musk           NaN  Mars & Cars, Chips & Dips   \n",
      "\n",
      "                user_created  user_followers  user_friends  user_favourites  \\\n",
      "0  2009-06-02 20:12:29+00:00       101240855           115            13503   \n",
      "1  2009-06-02 20:12:29+00:00       101240806           115            13503   \n",
      "2  2009-06-02 20:12:29+00:00       101240806           115            13503   \n",
      "3  2009-06-02 20:12:29+00:00       101240806           115            13503   \n",
      "4  2009-06-02 20:12:29+00:00       101240806           115            13503   \n",
      "\n",
      "   user_verified                       date  \\\n",
      "0           True  2022-07-05 17:55:09+00:00   \n",
      "1           True  2022-07-05 17:47:42+00:00   \n",
      "2           True  2022-07-05 17:46:15+00:00   \n",
      "3           True  2022-07-05 17:40:05+00:00   \n",
      "4           True  2022-07-05 17:38:23+00:00   \n",
      "\n",
      "                                                text hashtags  \\\n",
      "0  @BillyM2k I find the gold toe sock – inevitabl...      NaN   \n",
      "1                 Sock Con, the conference for socks      NaN   \n",
      "2  Always something new for the magazine cover an...      NaN   \n",
      "3                   @ExplainThisBob This guy gets it      NaN   \n",
      "4  Sock tech is so advanced that you can get pret...      NaN   \n",
      "\n",
      "               source  retweets  favorites  is_retweet  \n",
      "0  Twitter for iPhone       335       6542       False  \n",
      "1  Twitter for iPhone      1451      30753       False  \n",
      "2  Twitter for iPhone      1284      28610       False  \n",
      "3  Twitter for iPhone       131       3640       False  \n",
      "4  Twitter for iPhone      1191      23790       False  \n",
      "date    0\n",
      "text    0\n",
      "dtype: int64\n"
     ]
    }
   ],
   "source": [
    "# Import necessary libraries\n",
    "import pandas as pd\n",
    "from nltk.sentiment.vader import SentimentIntensityAnalyzer\n",
    "\n",
    "# Load the tweet data (replace with your actual file path or dataset)\n",
    "tweets_df = pd.read_csv('/kaggle/input/dataset-for-stock-and-tweet/archive (4)/elon_musk_tweets.csv')  # Adjust path as necessary\n",
    "\n",
    "# Display the first few rows to check if the data is loaded properly\n",
    "print(tweets_df.head())\n",
    "\n",
    "# Check for any missing values in critical columns (date, text)\n",
    "print(tweets_df[['date', 'text']].isnull().sum())\n"
   ]
  },
  {
   "cell_type": "markdown",
   "id": "541e7acd",
   "metadata": {
    "papermill": {
     "duration": 0.009379,
     "end_time": "2025-05-04T11:05:35.295033",
     "exception": false,
     "start_time": "2025-05-04T11:05:35.285654",
     "status": "completed"
    },
    "tags": []
   },
   "source": [
    "# Analysis:\n",
    "> Data loaded successfully with columns: id, user_name, text, date, retweets, etc.\n",
    "\n",
    "> No missing values in date or text (critical for sentiment analysis).\n",
    "\n",
    "> Example tweet: \"Sock tech is so advanced that you can get pret...\" (humorous tone).\n",
    "\n",
    "\n"
   ]
  },
  {
   "cell_type": "markdown",
   "id": "33ff08dc",
   "metadata": {
    "papermill": {
     "duration": 0.008534,
     "end_time": "2025-05-04T11:05:35.311858",
     "exception": false,
     "start_time": "2025-05-04T11:05:35.303324",
     "status": "completed"
    },
    "tags": []
   },
   "source": [
    "## 2.2: Preprocess Tweet Data\n",
    "> Converts date to datetime format with errors='coerce' (silently handles invalid dates → NaT).\n",
    "\n",
    "> Checks for failed conversions (empty output means all dates were valid).\n",
    "\n",
    "> Drops rows with missing date or text (though none were found here).\n",
    "\n",
    "> Displays cleaned data (first 5 rows, confirming structure is intact).\n",
    "\n",
    "\n"
   ]
  },
  {
   "cell_type": "code",
   "execution_count": 4,
   "id": "67f3ff64",
   "metadata": {
    "execution": {
     "iopub.execute_input": "2025-05-04T11:05:35.331264Z",
     "iopub.status.busy": "2025-05-04T11:05:35.329978Z",
     "iopub.status.idle": "2025-05-04T11:05:35.363582Z",
     "shell.execute_reply": "2025-05-04T11:05:35.362464Z"
    },
    "papermill": {
     "duration": 0.044699,
     "end_time": "2025-05-04T11:05:35.365358",
     "exception": false,
     "start_time": "2025-05-04T11:05:35.320659",
     "status": "completed"
    },
    "tags": []
   },
   "outputs": [
    {
     "name": "stdout",
     "output_type": "stream",
     "text": [
      "Empty DataFrame\n",
      "Columns: [id, user_name, user_location, user_description, user_created, user_followers, user_friends, user_favourites, user_verified, date, text, hashtags, source, retweets, favorites, is_retweet]\n",
      "Index: []\n",
      "                    id  user_name user_location           user_description  \\\n",
      "0  1544379368478212100  Elon Musk           NaN  Mars & Cars, Chips & Dips   \n",
      "1  1544377493263720450  Elon Musk           NaN  Mars & Cars, Chips & Dips   \n",
      "2  1544377130590552064  Elon Musk           NaN  Mars & Cars, Chips & Dips   \n",
      "3  1544375575724400645  Elon Musk           NaN  Mars & Cars, Chips & Dips   \n",
      "4  1544375148605853699  Elon Musk           NaN  Mars & Cars, Chips & Dips   \n",
      "\n",
      "                user_created  user_followers  user_friends  user_favourites  \\\n",
      "0  2009-06-02 20:12:29+00:00       101240855           115            13503   \n",
      "1  2009-06-02 20:12:29+00:00       101240806           115            13503   \n",
      "2  2009-06-02 20:12:29+00:00       101240806           115            13503   \n",
      "3  2009-06-02 20:12:29+00:00       101240806           115            13503   \n",
      "4  2009-06-02 20:12:29+00:00       101240806           115            13503   \n",
      "\n",
      "   user_verified                      date  \\\n",
      "0           True 2022-07-05 17:55:09+00:00   \n",
      "1           True 2022-07-05 17:47:42+00:00   \n",
      "2           True 2022-07-05 17:46:15+00:00   \n",
      "3           True 2022-07-05 17:40:05+00:00   \n",
      "4           True 2022-07-05 17:38:23+00:00   \n",
      "\n",
      "                                                text hashtags  \\\n",
      "0  @BillyM2k I find the gold toe sock – inevitabl...      NaN   \n",
      "1                 Sock Con, the conference for socks      NaN   \n",
      "2  Always something new for the magazine cover an...      NaN   \n",
      "3                   @ExplainThisBob This guy gets it      NaN   \n",
      "4  Sock tech is so advanced that you can get pret...      NaN   \n",
      "\n",
      "               source  retweets  favorites  is_retweet  \n",
      "0  Twitter for iPhone       335       6542       False  \n",
      "1  Twitter for iPhone      1451      30753       False  \n",
      "2  Twitter for iPhone      1284      28610       False  \n",
      "3  Twitter for iPhone       131       3640       False  \n",
      "4  Twitter for iPhone      1191      23790       False  \n"
     ]
    }
   ],
   "source": [
    "# Convert the 'date' column to datetime format (handle errors if any)\n",
    "tweets_df['date'] = pd.to_datetime(tweets_df['date'], errors='coerce')\n",
    "\n",
    "# Display any rows where the date conversion failed (if any)\n",
    "print(tweets_df[tweets_df['date'].isnull()])\n",
    "\n",
    "# Remove rows with missing 'date' or 'text' columns\n",
    "tweets_df = tweets_df.dropna(subset=['date', 'text'])\n",
    "\n",
    "# Display the cleaned data\n",
    "print(tweets_df.head())\n"
   ]
  },
  {
   "cell_type": "markdown",
   "id": "57022778",
   "metadata": {
    "papermill": {
     "duration": 0.008149,
     "end_time": "2025-05-04T11:05:35.382040",
     "exception": false,
     "start_time": "2025-05-04T11:05:35.373891",
     "status": "completed"
    },
    "tags": []
   },
   "source": [
    "# Analysis:\n",
    "> No date parsing errors (Empty DataFrame confirms all timestamps are valid).\n",
    "\n",
    "> Data structure preserved: Columns like text, retweets, and date remain intact.\n",
    "\n",
    "> Sample tweets show informal language (e.g., \"Sock tech is so advanced...\"), which VADER handles well\n"
   ]
  },
  {
   "cell_type": "markdown",
   "id": "9664f65e",
   "metadata": {
    "papermill": {
     "duration": 0.008064,
     "end_time": "2025-05-04T11:05:35.398499",
     "exception": false,
     "start_time": "2025-05-04T11:05:35.390435",
     "status": "completed"
    },
    "tags": []
   },
   "source": [
    "# 2.3: Apply VADER Sentiment Analysis\n",
    "> Initializes VADER (SentimentIntensityAnalyzer()) to analyze tweet sentiment.\n",
    "\n",
    "> Calculates compound scores (ranging from -1 to +1) for each tweet:\n",
    "\n",
    "> 0.05 → Positive\n",
    "\n",
    "> -0.05 → Negative\n",
    "\n",
    "> Between -0.05 and 0.05 → Neutral\n",
    "\n",
    "> Applies sentiment analysis to the raw text column (without preprocessing, which is fine for VADER).\n",
    "\n",
    "\n"
   ]
  },
  {
   "cell_type": "code",
   "execution_count": 5,
   "id": "a13bd0eb",
   "metadata": {
    "execution": {
     "iopub.execute_input": "2025-05-04T11:05:35.416730Z",
     "iopub.status.busy": "2025-05-04T11:05:35.416357Z",
     "iopub.status.idle": "2025-05-04T11:05:36.175407Z",
     "shell.execute_reply": "2025-05-04T11:05:36.174234Z"
    },
    "papermill": {
     "duration": 0.770395,
     "end_time": "2025-05-04T11:05:36.177164",
     "exception": false,
     "start_time": "2025-05-04T11:05:35.406769",
     "status": "completed"
    },
    "tags": []
   },
   "outputs": [
    {
     "name": "stdout",
     "output_type": "stream",
     "text": [
      "                                                text  sentiment\n",
      "0  @BillyM2k I find the gold toe sock – inevitabl...    -0.6378\n",
      "1                 Sock Con, the conference for socks     0.0000\n",
      "2  Always something new for the magazine cover an...     0.0000\n",
      "3                   @ExplainThisBob This guy gets it     0.0000\n",
      "4  Sock tech is so advanced that you can get pret...     0.7276\n",
      "Example Tweet: @BillyM2k I find the gold toe sock – inevitably off kilter &amp; washed out – a little troubling esthetically &amp; arguably a bit corpo\n",
      "Sentiment Score: {'neg': 0.234, 'neu': 0.766, 'pos': 0.0, 'compound': -0.6378}\n"
     ]
    }
   ],
   "source": [
    "# VADER Sentiment Analysis\n",
    "# Initialize the VADER sentiment analyzer\n",
    "sia = SentimentIntensityAnalyzer()\n",
    "\n",
    "# Function to apply VADER sentiment analysis and return compound score\n",
    "def get_vader_sentiment(text):\n",
    "    sentiment_score = sia.polarity_scores(text)\n",
    "    return sentiment_score['compound']  # Compound score is a single score\n",
    "\n",
    "# Apply VADER sentiment analysis on the 'text' column\n",
    "tweets_df['sentiment'] = tweets_df['text'].apply(get_vader_sentiment)\n",
    "\n",
    "# Display the first few rows with sentiment values\n",
    "print(tweets_df[['text', 'sentiment']].head())\n",
    "\n",
    "# Optionally, check the sentiment for a sample tweet manually\n",
    "example_tweet = tweets_df['text'].iloc[0]  # Just taking the first tweet as an example\n",
    "print(f\"Example Tweet: {example_tweet}\")\n",
    "print(f\"Sentiment Score: {sia.polarity_scores(example_tweet)}\")\n"
   ]
  },
  {
   "cell_type": "markdown",
   "id": "2abc5b2d",
   "metadata": {
    "papermill": {
     "duration": 0.010545,
     "end_time": "2025-05-04T11:05:36.198343",
     "exception": false,
     "start_time": "2025-05-04T11:05:36.187798",
     "status": "completed"
    },
    "tags": []
   },
   "source": [
    "# Analysis:\n",
    "Each tweet now has a sentiment score, which indicates whether the sentiment is positive, negative, or neutral. This data will help correlate sentiment with stock price movements later.\n",
    "\n",
    "\n",
    "Here's a quick breakdown of the sentiment score components:\n",
    "\n",
    "Negative (neg): 0.234\n",
    "\n",
    "Neutral (neu): 0.766\n",
    "\n",
    "Positive (pos): 0.0\n",
    "\n",
    "Compound: -0.6378 (Overall sentiment)\n",
    "\n"
   ]
  },
  {
   "cell_type": "markdown",
   "id": "2af52695",
   "metadata": {
    "papermill": {
     "duration": 0.00818,
     "end_time": "2025-05-04T11:05:36.215690",
     "exception": false,
     "start_time": "2025-05-04T11:05:36.207510",
     "status": "completed"
    },
    "tags": []
   },
   "source": [
    "## Step 3: Load and Preprocess Tesla Stock Data\n",
    " "
   ]
  },
  {
   "cell_type": "markdown",
   "id": "ae8b612d",
   "metadata": {
    "papermill": {
     "duration": 0.008471,
     "end_time": "2025-05-04T11:05:36.232543",
     "exception": false,
     "start_time": "2025-05-04T11:05:36.224072",
     "status": "completed"
    },
    "tags": []
   },
   "source": [
    "\n",
    "## 3.1: Import Required Libraries\n",
    "_Importing essential libraries like pandas for data handling._\n"
   ]
  },
  {
   "cell_type": "code",
   "execution_count": 6,
   "id": "2362061c",
   "metadata": {
    "execution": {
     "iopub.execute_input": "2025-05-04T11:05:36.251982Z",
     "iopub.status.busy": "2025-05-04T11:05:36.251652Z",
     "iopub.status.idle": "2025-05-04T11:05:36.256735Z",
     "shell.execute_reply": "2025-05-04T11:05:36.255405Z"
    },
    "papermill": {
     "duration": 0.017188,
     "end_time": "2025-05-04T11:05:36.258708",
     "exception": false,
     "start_time": "2025-05-04T11:05:36.241520",
     "status": "completed"
    },
    "tags": []
   },
   "outputs": [],
   "source": [
    "import pandas as pd\n"
   ]
  },
  {
   "cell_type": "markdown",
   "id": "7205f126",
   "metadata": {
    "papermill": {
     "duration": 0.009037,
     "end_time": "2025-05-04T11:05:36.346788",
     "exception": false,
     "start_time": "2025-05-04T11:05:36.337751",
     "status": "completed"
    },
    "tags": []
   },
   "source": [
    "## 3.2: Load Tesla Stock Price Dataset\n",
    "> Loads Tesla stock data (2010–2025) with columns: Date, Open, High, Low, Close, Volume.\n",
    "\n",
    "> Shows early trading days (e.g., $1.13 opening price in 2010 vs. current highs).\n",
    "\n"
   ]
  },
  {
   "cell_type": "code",
   "execution_count": 7,
   "id": "89db1726",
   "metadata": {
    "execution": {
     "iopub.execute_input": "2025-05-04T11:05:36.365675Z",
     "iopub.status.busy": "2025-05-04T11:05:36.365289Z",
     "iopub.status.idle": "2025-05-04T11:05:36.399002Z",
     "shell.execute_reply": "2025-05-04T11:05:36.397700Z"
    },
    "papermill": {
     "duration": 0.04516,
     "end_time": "2025-05-04T11:05:36.400600",
     "exception": false,
     "start_time": "2025-05-04T11:05:36.355440",
     "status": "completed"
    },
    "tags": []
   },
   "outputs": [
    {
     "data": {
      "text/html": [
       "<div>\n",
       "<style scoped>\n",
       "    .dataframe tbody tr th:only-of-type {\n",
       "        vertical-align: middle;\n",
       "    }\n",
       "\n",
       "    .dataframe tbody tr th {\n",
       "        vertical-align: top;\n",
       "    }\n",
       "\n",
       "    .dataframe thead th {\n",
       "        text-align: right;\n",
       "    }\n",
       "</style>\n",
       "<table border=\"1\" class=\"dataframe\">\n",
       "  <thead>\n",
       "    <tr style=\"text-align: right;\">\n",
       "      <th></th>\n",
       "      <th>Date</th>\n",
       "      <th>Open</th>\n",
       "      <th>High</th>\n",
       "      <th>Low</th>\n",
       "      <th>Close</th>\n",
       "      <th>Volume</th>\n",
       "    </tr>\n",
       "  </thead>\n",
       "  <tbody>\n",
       "    <tr>\n",
       "      <th>0</th>\n",
       "      <td>2010-06-28</td>\n",
       "      <td>1.13333</td>\n",
       "      <td>1.13333</td>\n",
       "      <td>1.13333</td>\n",
       "      <td>1.13333</td>\n",
       "      <td>0</td>\n",
       "    </tr>\n",
       "    <tr>\n",
       "      <th>1</th>\n",
       "      <td>2010-06-29</td>\n",
       "      <td>1.26667</td>\n",
       "      <td>1.66667</td>\n",
       "      <td>1.16933</td>\n",
       "      <td>1.59267</td>\n",
       "      <td>281749140</td>\n",
       "    </tr>\n",
       "    <tr>\n",
       "      <th>2</th>\n",
       "      <td>2010-06-30</td>\n",
       "      <td>1.71933</td>\n",
       "      <td>2.02800</td>\n",
       "      <td>1.55333</td>\n",
       "      <td>1.58867</td>\n",
       "      <td>257915910</td>\n",
       "    </tr>\n",
       "    <tr>\n",
       "      <th>3</th>\n",
       "      <td>2010-07-01</td>\n",
       "      <td>1.66667</td>\n",
       "      <td>1.72800</td>\n",
       "      <td>1.35133</td>\n",
       "      <td>1.46400</td>\n",
       "      <td>123447945</td>\n",
       "    </tr>\n",
       "    <tr>\n",
       "      <th>4</th>\n",
       "      <td>2010-07-02</td>\n",
       "      <td>1.53333</td>\n",
       "      <td>1.54000</td>\n",
       "      <td>1.24733</td>\n",
       "      <td>1.28000</td>\n",
       "      <td>77127105</td>\n",
       "    </tr>\n",
       "  </tbody>\n",
       "</table>\n",
       "</div>"
      ],
      "text/plain": [
       "         Date     Open     High      Low    Close     Volume\n",
       "0  2010-06-28  1.13333  1.13333  1.13333  1.13333          0\n",
       "1  2010-06-29  1.26667  1.66667  1.16933  1.59267  281749140\n",
       "2  2010-06-30  1.71933  2.02800  1.55333  1.58867  257915910\n",
       "3  2010-07-01  1.66667  1.72800  1.35133  1.46400  123447945\n",
       "4  2010-07-02  1.53333  1.54000  1.24733  1.28000   77127105"
      ]
     },
     "execution_count": 7,
     "metadata": {},
     "output_type": "execute_result"
    }
   ],
   "source": [
    "# Load the Tesla stock data from the given CSV file\n",
    "stock_data_path = '/kaggle/input/dataset-for-stock-and-tweet/archive (5)/tsla_2025.csv'\n",
    "tesla_stock_data = pd.read_csv(stock_data_path)\n",
    "\n",
    "# Display the first few rows of the dataset to check its structure\n",
    "tesla_stock_data.head()\n"
   ]
  },
  {
   "cell_type": "markdown",
   "id": "b768ab68",
   "metadata": {
    "papermill": {
     "duration": 0.008704,
     "end_time": "2025-05-04T11:05:36.418386",
     "exception": false,
     "start_time": "2025-05-04T11:05:36.409682",
     "status": "completed"
    },
    "tags": []
   },
   "source": [
    "# Step 4: Load and Preprocess Sentiment (Tweet) Data\n"
   ]
  },
  {
   "cell_type": "markdown",
   "id": "3ac08942",
   "metadata": {
    "papermill": {
     "duration": 0.009269,
     "end_time": "2025-05-04T11:05:36.436681",
     "exception": false,
     "start_time": "2025-05-04T11:05:36.427412",
     "status": "completed"
    },
    "tags": []
   },
   "source": [
    "## 4.1: Load Elon Musk Tweet Dataset\n",
    "\n"
   ]
  },
  {
   "cell_type": "code",
   "execution_count": 8,
   "id": "46a4fec6",
   "metadata": {
    "execution": {
     "iopub.execute_input": "2025-05-04T11:05:36.457278Z",
     "iopub.status.busy": "2025-05-04T11:05:36.456857Z",
     "iopub.status.idle": "2025-05-04T11:05:36.553605Z",
     "shell.execute_reply": "2025-05-04T11:05:36.552617Z"
    },
    "papermill": {
     "duration": 0.108817,
     "end_time": "2025-05-04T11:05:36.555439",
     "exception": false,
     "start_time": "2025-05-04T11:05:36.446622",
     "status": "completed"
    },
    "tags": []
   },
   "outputs": [
    {
     "data": {
      "text/html": [
       "<div>\n",
       "<style scoped>\n",
       "    .dataframe tbody tr th:only-of-type {\n",
       "        vertical-align: middle;\n",
       "    }\n",
       "\n",
       "    .dataframe tbody tr th {\n",
       "        vertical-align: top;\n",
       "    }\n",
       "\n",
       "    .dataframe thead th {\n",
       "        text-align: right;\n",
       "    }\n",
       "</style>\n",
       "<table border=\"1\" class=\"dataframe\">\n",
       "  <thead>\n",
       "    <tr style=\"text-align: right;\">\n",
       "      <th></th>\n",
       "      <th>id</th>\n",
       "      <th>user_name</th>\n",
       "      <th>user_location</th>\n",
       "      <th>user_description</th>\n",
       "      <th>user_created</th>\n",
       "      <th>user_followers</th>\n",
       "      <th>user_friends</th>\n",
       "      <th>user_favourites</th>\n",
       "      <th>user_verified</th>\n",
       "      <th>date</th>\n",
       "      <th>text</th>\n",
       "      <th>hashtags</th>\n",
       "      <th>source</th>\n",
       "      <th>retweets</th>\n",
       "      <th>favorites</th>\n",
       "      <th>is_retweet</th>\n",
       "    </tr>\n",
       "  </thead>\n",
       "  <tbody>\n",
       "    <tr>\n",
       "      <th>0</th>\n",
       "      <td>1544379368478212100</td>\n",
       "      <td>Elon Musk</td>\n",
       "      <td>NaN</td>\n",
       "      <td>Mars &amp; Cars, Chips &amp; Dips</td>\n",
       "      <td>2009-06-02 20:12:29+00:00</td>\n",
       "      <td>101240855</td>\n",
       "      <td>115</td>\n",
       "      <td>13503</td>\n",
       "      <td>True</td>\n",
       "      <td>2022-07-05</td>\n",
       "      <td>@BillyM2k I find the gold toe sock – inevitabl...</td>\n",
       "      <td>NaN</td>\n",
       "      <td>Twitter for iPhone</td>\n",
       "      <td>335</td>\n",
       "      <td>6542</td>\n",
       "      <td>False</td>\n",
       "    </tr>\n",
       "    <tr>\n",
       "      <th>1</th>\n",
       "      <td>1544377493263720450</td>\n",
       "      <td>Elon Musk</td>\n",
       "      <td>NaN</td>\n",
       "      <td>Mars &amp; Cars, Chips &amp; Dips</td>\n",
       "      <td>2009-06-02 20:12:29+00:00</td>\n",
       "      <td>101240806</td>\n",
       "      <td>115</td>\n",
       "      <td>13503</td>\n",
       "      <td>True</td>\n",
       "      <td>2022-07-05</td>\n",
       "      <td>Sock Con, the conference for socks</td>\n",
       "      <td>NaN</td>\n",
       "      <td>Twitter for iPhone</td>\n",
       "      <td>1451</td>\n",
       "      <td>30753</td>\n",
       "      <td>False</td>\n",
       "    </tr>\n",
       "    <tr>\n",
       "      <th>2</th>\n",
       "      <td>1544377130590552064</td>\n",
       "      <td>Elon Musk</td>\n",
       "      <td>NaN</td>\n",
       "      <td>Mars &amp; Cars, Chips &amp; Dips</td>\n",
       "      <td>2009-06-02 20:12:29+00:00</td>\n",
       "      <td>101240806</td>\n",
       "      <td>115</td>\n",
       "      <td>13503</td>\n",
       "      <td>True</td>\n",
       "      <td>2022-07-05</td>\n",
       "      <td>Always something new for the magazine cover an...</td>\n",
       "      <td>NaN</td>\n",
       "      <td>Twitter for iPhone</td>\n",
       "      <td>1284</td>\n",
       "      <td>28610</td>\n",
       "      <td>False</td>\n",
       "    </tr>\n",
       "    <tr>\n",
       "      <th>3</th>\n",
       "      <td>1544375575724400645</td>\n",
       "      <td>Elon Musk</td>\n",
       "      <td>NaN</td>\n",
       "      <td>Mars &amp; Cars, Chips &amp; Dips</td>\n",
       "      <td>2009-06-02 20:12:29+00:00</td>\n",
       "      <td>101240806</td>\n",
       "      <td>115</td>\n",
       "      <td>13503</td>\n",
       "      <td>True</td>\n",
       "      <td>2022-07-05</td>\n",
       "      <td>@ExplainThisBob This guy gets it</td>\n",
       "      <td>NaN</td>\n",
       "      <td>Twitter for iPhone</td>\n",
       "      <td>131</td>\n",
       "      <td>3640</td>\n",
       "      <td>False</td>\n",
       "    </tr>\n",
       "    <tr>\n",
       "      <th>4</th>\n",
       "      <td>1544375148605853699</td>\n",
       "      <td>Elon Musk</td>\n",
       "      <td>NaN</td>\n",
       "      <td>Mars &amp; Cars, Chips &amp; Dips</td>\n",
       "      <td>2009-06-02 20:12:29+00:00</td>\n",
       "      <td>101240806</td>\n",
       "      <td>115</td>\n",
       "      <td>13503</td>\n",
       "      <td>True</td>\n",
       "      <td>2022-07-05</td>\n",
       "      <td>Sock tech is so advanced that you can get pret...</td>\n",
       "      <td>NaN</td>\n",
       "      <td>Twitter for iPhone</td>\n",
       "      <td>1191</td>\n",
       "      <td>23790</td>\n",
       "      <td>False</td>\n",
       "    </tr>\n",
       "  </tbody>\n",
       "</table>\n",
       "</div>"
      ],
      "text/plain": [
       "                    id  user_name user_location           user_description  \\\n",
       "0  1544379368478212100  Elon Musk           NaN  Mars & Cars, Chips & Dips   \n",
       "1  1544377493263720450  Elon Musk           NaN  Mars & Cars, Chips & Dips   \n",
       "2  1544377130590552064  Elon Musk           NaN  Mars & Cars, Chips & Dips   \n",
       "3  1544375575724400645  Elon Musk           NaN  Mars & Cars, Chips & Dips   \n",
       "4  1544375148605853699  Elon Musk           NaN  Mars & Cars, Chips & Dips   \n",
       "\n",
       "                user_created  user_followers  user_friends  user_favourites  \\\n",
       "0  2009-06-02 20:12:29+00:00       101240855           115            13503   \n",
       "1  2009-06-02 20:12:29+00:00       101240806           115            13503   \n",
       "2  2009-06-02 20:12:29+00:00       101240806           115            13503   \n",
       "3  2009-06-02 20:12:29+00:00       101240806           115            13503   \n",
       "4  2009-06-02 20:12:29+00:00       101240806           115            13503   \n",
       "\n",
       "   user_verified        date  \\\n",
       "0           True  2022-07-05   \n",
       "1           True  2022-07-05   \n",
       "2           True  2022-07-05   \n",
       "3           True  2022-07-05   \n",
       "4           True  2022-07-05   \n",
       "\n",
       "                                                text hashtags  \\\n",
       "0  @BillyM2k I find the gold toe sock – inevitabl...      NaN   \n",
       "1                 Sock Con, the conference for socks      NaN   \n",
       "2  Always something new for the magazine cover an...      NaN   \n",
       "3                   @ExplainThisBob This guy gets it      NaN   \n",
       "4  Sock tech is so advanced that you can get pret...      NaN   \n",
       "\n",
       "               source  retweets  favorites  is_retweet  \n",
       "0  Twitter for iPhone       335       6542       False  \n",
       "1  Twitter for iPhone      1451      30753       False  \n",
       "2  Twitter for iPhone      1284      28610       False  \n",
       "3  Twitter for iPhone       131       3640       False  \n",
       "4  Twitter for iPhone      1191      23790       False  "
      ]
     },
     "execution_count": 8,
     "metadata": {},
     "output_type": "execute_result"
    }
   ],
   "source": [
    "#  Step 4.1: Load the sentiment data (tweets)\n",
    "# Replace this path with the actual path to your sentiment CSV file\n",
    "sentiment_data_path = '/kaggle/input/dataset-for-stock-and-tweet/archive (4)/elon_musk_tweets.csv'\n",
    "\n",
    "# Load the dataset\n",
    "sentiment_df = pd.read_csv(sentiment_data_path)\n",
    "\n",
    "# Convert the 'date' column to datetime format and standardize it to 'YYYY-MM-DD'\n",
    "sentiment_df['date'] = pd.to_datetime(sentiment_df['date']).dt.strftime('%Y-%m-%d')\n",
    "\n",
    "# Preview the dataset\n",
    "sentiment_df.head()\n"
   ]
  },
  {
   "cell_type": "markdown",
   "id": "277f6cad",
   "metadata": {
    "papermill": {
     "duration": 0.009537,
     "end_time": "2025-05-04T11:05:36.574621",
     "exception": false,
     "start_time": "2025-05-04T11:05:36.565084",
     "status": "completed"
    },
    "tags": []
   },
   "source": [
    "## 4.2: Apply Sentiment Analysis using VADER\n",
    "_Applying VADER sentiment analysis to each tweet and labeling it as positive, negative, or neutral based on the compound score._\n"
   ]
  },
  {
   "cell_type": "code",
   "execution_count": 9,
   "id": "1aabaaf0",
   "metadata": {
    "execution": {
     "iopub.execute_input": "2025-05-04T11:05:36.594723Z",
     "iopub.status.busy": "2025-05-04T11:05:36.594394Z",
     "iopub.status.idle": "2025-05-04T11:05:37.339712Z",
     "shell.execute_reply": "2025-05-04T11:05:37.338349Z"
    },
    "papermill": {
     "duration": 0.758086,
     "end_time": "2025-05-04T11:05:37.341912",
     "exception": false,
     "start_time": "2025-05-04T11:05:36.583826",
     "status": "completed"
    },
    "tags": []
   },
   "outputs": [
    {
     "data": {
      "text/html": [
       "<div>\n",
       "<style scoped>\n",
       "    .dataframe tbody tr th:only-of-type {\n",
       "        vertical-align: middle;\n",
       "    }\n",
       "\n",
       "    .dataframe tbody tr th {\n",
       "        vertical-align: top;\n",
       "    }\n",
       "\n",
       "    .dataframe thead th {\n",
       "        text-align: right;\n",
       "    }\n",
       "</style>\n",
       "<table border=\"1\" class=\"dataframe\">\n",
       "  <thead>\n",
       "    <tr style=\"text-align: right;\">\n",
       "      <th></th>\n",
       "      <th>date</th>\n",
       "      <th>text</th>\n",
       "      <th>compound</th>\n",
       "      <th>sentiment</th>\n",
       "    </tr>\n",
       "  </thead>\n",
       "  <tbody>\n",
       "    <tr>\n",
       "      <th>0</th>\n",
       "      <td>2022-07-05</td>\n",
       "      <td>@BillyM2k I find the gold toe sock – inevitabl...</td>\n",
       "      <td>-0.6378</td>\n",
       "      <td>negative</td>\n",
       "    </tr>\n",
       "    <tr>\n",
       "      <th>1</th>\n",
       "      <td>2022-07-05</td>\n",
       "      <td>Sock Con, the conference for socks</td>\n",
       "      <td>0.0000</td>\n",
       "      <td>neutral</td>\n",
       "    </tr>\n",
       "    <tr>\n",
       "      <th>2</th>\n",
       "      <td>2022-07-05</td>\n",
       "      <td>Always something new for the magazine cover an...</td>\n",
       "      <td>0.0000</td>\n",
       "      <td>neutral</td>\n",
       "    </tr>\n",
       "    <tr>\n",
       "      <th>3</th>\n",
       "      <td>2022-07-05</td>\n",
       "      <td>@ExplainThisBob This guy gets it</td>\n",
       "      <td>0.0000</td>\n",
       "      <td>neutral</td>\n",
       "    </tr>\n",
       "    <tr>\n",
       "      <th>4</th>\n",
       "      <td>2022-07-05</td>\n",
       "      <td>Sock tech is so advanced that you can get pret...</td>\n",
       "      <td>0.7276</td>\n",
       "      <td>positive</td>\n",
       "    </tr>\n",
       "  </tbody>\n",
       "</table>\n",
       "</div>"
      ],
      "text/plain": [
       "         date                                               text  compound  \\\n",
       "0  2022-07-05  @BillyM2k I find the gold toe sock – inevitabl...   -0.6378   \n",
       "1  2022-07-05                 Sock Con, the conference for socks    0.0000   \n",
       "2  2022-07-05  Always something new for the magazine cover an...    0.0000   \n",
       "3  2022-07-05                   @ExplainThisBob This guy gets it    0.0000   \n",
       "4  2022-07-05  Sock tech is so advanced that you can get pret...    0.7276   \n",
       "\n",
       "  sentiment  \n",
       "0  negative  \n",
       "1   neutral  \n",
       "2   neutral  \n",
       "3   neutral  \n",
       "4  positive  "
      ]
     },
     "execution_count": 9,
     "metadata": {},
     "output_type": "execute_result"
    }
   ],
   "source": [
    "from nltk.sentiment.vader import SentimentIntensityAnalyzer\n",
    "\n",
    "# Initialize VADER SentimentIntensityAnalyzer\n",
    "sia = SentimentIntensityAnalyzer()\n",
    "\n",
    "# Apply sentiment analysis on the 'text' column of the tweets\n",
    "sentiment_df['compound'] = sentiment_df['text'].apply(lambda x: sia.polarity_scores(x)['compound'])\n",
    "\n",
    "# You can categorize the sentiment based on the compound score:\n",
    "sentiment_df['sentiment'] = sentiment_df['compound'].apply(lambda x: 'positive' if x > 0 else ('negative' if x < 0 else 'neutral'))\n",
    "\n",
    "# Check the updated dataframe with sentiment labels\n",
    "sentiment_df[['date', 'text', 'compound', 'sentiment']].head()\n"
   ]
  },
  {
   "cell_type": "markdown",
   "id": "643ffbad",
   "metadata": {
    "papermill": {
     "duration": 0.009568,
     "end_time": "2025-05-04T11:05:37.361065",
     "exception": false,
     "start_time": "2025-05-04T11:05:37.351497",
     "status": "completed"
    },
    "tags": []
   },
   "source": [
    "# Step 5: Data Preparation for Merging Sentiment and Stock Data\n"
   ]
  },
  {
   "cell_type": "markdown",
   "id": "1d6fb921",
   "metadata": {
    "papermill": {
     "duration": 0.009006,
     "end_time": "2025-05-04T11:05:37.379319",
     "exception": false,
     "start_time": "2025-05-04T11:05:37.370313",
     "status": "completed"
    },
    "tags": []
   },
   "source": [
    "## 5.1: Load Tesla Stock Price Data\n",
    "_Loading Tesla stock price data from CSV and verifying if the file exists._\n"
   ]
  },
  {
   "cell_type": "code",
   "execution_count": 10,
   "id": "5713f1c2",
   "metadata": {
    "execution": {
     "iopub.execute_input": "2025-05-04T11:05:37.399319Z",
     "iopub.status.busy": "2025-05-04T11:05:37.398967Z",
     "iopub.status.idle": "2025-05-04T11:05:37.416769Z",
     "shell.execute_reply": "2025-05-04T11:05:37.415587Z"
    },
    "papermill": {
     "duration": 0.029933,
     "end_time": "2025-05-04T11:05:37.418675",
     "exception": false,
     "start_time": "2025-05-04T11:05:37.388742",
     "status": "completed"
    },
    "tags": []
   },
   "outputs": [
    {
     "name": "stdout",
     "output_type": "stream",
     "text": [
      " Tesla stock data loaded successfully!\n"
     ]
    }
   ],
   "source": [
    "import os\n",
    "import pandas as pd\n",
    "\n",
    "# Step 5.1: Provide the correct path to your Tesla stock data CSV file\n",
    "stock_data_path = '/kaggle/input/dataset-for-stock-and-tweet/archive (5)/tsla_2025.csv'  # Replace with your actual file path\n",
    "\n",
    "# Step 5.1.1: Load the Tesla stock data if the file exists\n",
    "if os.path.exists(stock_data_path):\n",
    "    stock_df = pd.read_csv(stock_data_path)\n",
    "    print(\" Tesla stock data loaded successfully!\")\n",
    "else:\n",
    "    print(f\" Error: The file '{stock_data_path}' does not exist. Please check the file path.\")\n"
   ]
  },
  {
   "cell_type": "markdown",
   "id": "0bf68439",
   "metadata": {
    "papermill": {
     "duration": 0.009562,
     "end_time": "2025-05-04T11:05:37.438173",
     "exception": false,
     "start_time": "2025-05-04T11:05:37.428611",
     "status": "completed"
    },
    "tags": []
   },
   "source": [
    "## 5.2: Prepare and Clean Stock Data\n",
    "_Verifying and cleaning the stock dataset: renaming columns and formatting dates._\n"
   ]
  },
  {
   "cell_type": "code",
   "execution_count": 11,
   "id": "e22eb22f",
   "metadata": {
    "execution": {
     "iopub.execute_input": "2025-05-04T11:05:37.459036Z",
     "iopub.status.busy": "2025-05-04T11:05:37.458689Z",
     "iopub.status.idle": "2025-05-04T11:05:37.471710Z",
     "shell.execute_reply": "2025-05-04T11:05:37.470594Z"
    },
    "papermill": {
     "duration": 0.025161,
     "end_time": "2025-05-04T11:05:37.473358",
     "exception": false,
     "start_time": "2025-05-04T11:05:37.448197",
     "status": "completed"
    },
    "tags": []
   },
   "outputs": [
    {
     "name": "stdout",
     "output_type": "stream",
     "text": [
      " Columns in the stock data: Index(['Date', 'Open', 'High', 'Low', 'Close', 'Volume'], dtype='object')\n"
     ]
    }
   ],
   "source": [
    "# Step 5.2: Show column names to verify structure\n",
    "print(\" Columns in the stock data:\", stock_df.columns)\n",
    "\n",
    "# Step 5.2.1: Rename 'Date' column to 'date' for consistency\n",
    "if 'Date' in stock_df.columns:\n",
    "    stock_df.rename(columns={'Date': 'date'}, inplace=True)\n",
    "else:\n",
    "    print(\" Error: 'Date' column not found in stock data.\")\n",
    "\n",
    "# Step 5.2.2: Convert 'date' column to proper datetime format\n",
    "try:\n",
    "    stock_df['date'] = pd.to_datetime(stock_df['date']).dt.strftime('%Y-%m-%d')\n",
    "except Exception as e:\n",
    "    print(f\" Error in date conversion: {e}\")\n"
   ]
  },
  {
   "cell_type": "markdown",
   "id": "bbaec895",
   "metadata": {
    "papermill": {
     "duration": 0.011619,
     "end_time": "2025-05-04T11:05:37.495565",
     "exception": false,
     "start_time": "2025-05-04T11:05:37.483946",
     "status": "completed"
    },
    "tags": []
   },
   "source": [
    "## 5.3: Merge Sentiment and Stock Data\n",
    "_Combining stock and sentiment datasets based on the common `date` column._\n"
   ]
  },
  {
   "cell_type": "code",
   "execution_count": 12,
   "id": "9fb62fce",
   "metadata": {
    "execution": {
     "iopub.execute_input": "2025-05-04T11:05:37.519550Z",
     "iopub.status.busy": "2025-05-04T11:05:37.519118Z",
     "iopub.status.idle": "2025-05-04T11:05:37.538703Z",
     "shell.execute_reply": "2025-05-04T11:05:37.537546Z"
    },
    "papermill": {
     "duration": 0.032802,
     "end_time": "2025-05-04T11:05:37.540410",
     "exception": false,
     "start_time": "2025-05-04T11:05:37.507608",
     "status": "completed"
    },
    "tags": []
   },
   "outputs": [
    {
     "name": "stdout",
     "output_type": "stream",
     "text": [
      " Merged sentiment and stock data successfully!\n"
     ]
    }
   ],
   "source": [
    "# Step 5.3: Merge with sentiment_df on 'date'\n",
    "try:\n",
    "    merged_df = pd.merge(sentiment_df, stock_df, on='date', how='inner')\n",
    "    print(\" Merged sentiment and stock data successfully!\")\n",
    "except Exception as e:\n",
    "    print(f\" Error during merge: {e}\")\n"
   ]
  },
  {
   "cell_type": "markdown",
   "id": "0e99077f",
   "metadata": {
    "papermill": {
     "duration": 0.009631,
     "end_time": "2025-05-04T11:05:37.559695",
     "exception": false,
     "start_time": "2025-05-04T11:05:37.550064",
     "status": "completed"
    },
    "tags": []
   },
   "source": [
    "## 5.4: Inspect Merged Dataset\n",
    "_Quick preview of the combined sentiment and stock dataset._\n"
   ]
  },
  {
   "cell_type": "code",
   "execution_count": 13,
   "id": "e383bd49",
   "metadata": {
    "execution": {
     "iopub.execute_input": "2025-05-04T11:05:37.580567Z",
     "iopub.status.busy": "2025-05-04T11:05:37.580087Z",
     "iopub.status.idle": "2025-05-04T11:05:37.594726Z",
     "shell.execute_reply": "2025-05-04T11:05:37.593542Z"
    },
    "papermill": {
     "duration": 0.027142,
     "end_time": "2025-05-04T11:05:37.596624",
     "exception": false,
     "start_time": "2025-05-04T11:05:37.569482",
     "status": "completed"
    },
    "tags": []
   },
   "outputs": [
    {
     "name": "stdout",
     "output_type": "stream",
     "text": [
      "                    id  user_name user_location           user_description  \\\n",
      "0  1544379368478212100  Elon Musk           NaN  Mars & Cars, Chips & Dips   \n",
      "1  1544377493263720450  Elon Musk           NaN  Mars & Cars, Chips & Dips   \n",
      "2  1544377130590552064  Elon Musk           NaN  Mars & Cars, Chips & Dips   \n",
      "3  1544375575724400645  Elon Musk           NaN  Mars & Cars, Chips & Dips   \n",
      "4  1544375148605853699  Elon Musk           NaN  Mars & Cars, Chips & Dips   \n",
      "\n",
      "                user_created  user_followers  user_friends  user_favourites  \\\n",
      "0  2009-06-02 20:12:29+00:00       101240855           115            13503   \n",
      "1  2009-06-02 20:12:29+00:00       101240806           115            13503   \n",
      "2  2009-06-02 20:12:29+00:00       101240806           115            13503   \n",
      "3  2009-06-02 20:12:29+00:00       101240806           115            13503   \n",
      "4  2009-06-02 20:12:29+00:00       101240806           115            13503   \n",
      "\n",
      "   user_verified        date  ... retweets favorites is_retweet  compound  \\\n",
      "0           True  2022-07-05  ...      335      6542      False   -0.6378   \n",
      "1           True  2022-07-05  ...     1451     30753      False    0.0000   \n",
      "2           True  2022-07-05  ...     1284     28610      False    0.0000   \n",
      "3           True  2022-07-05  ...      131      3640      False    0.0000   \n",
      "4           True  2022-07-05  ...     1191     23790      False    0.7276   \n",
      "\n",
      "   sentiment   Open     High      Low    Close    Volume  \n",
      "0   negative  223.0  233.147  216.167  233.067  84779112  \n",
      "1    neutral  223.0  233.147  216.167  233.067  84779112  \n",
      "2    neutral  223.0  233.147  216.167  233.067  84779112  \n",
      "3    neutral  223.0  233.147  216.167  233.067  84779112  \n",
      "4   positive  223.0  233.147  216.167  233.067  84779112  \n",
      "\n",
      "[5 rows x 23 columns]\n"
     ]
    }
   ],
   "source": [
    "# Step 3.4: Inspect merged data\n",
    "print(merged_df.head())\n"
   ]
  },
  {
   "cell_type": "markdown",
   "id": "8d1821f8",
   "metadata": {
    "papermill": {
     "duration": 0.009306,
     "end_time": "2025-05-04T11:05:37.615826",
     "exception": false,
     "start_time": "2025-05-04T11:05:37.606520",
     "status": "completed"
    },
    "tags": []
   },
   "source": [
    "You successfully:\n",
    "\n",
    "(a) Aligned tweet data with stock data by date.\n",
    "\n",
    "(b) Merged sentiment scores into the stock dataframe.\n",
    "\n",
    "(c) Prepared the combined dataset for modeling.\n",
    "\n"
   ]
  },
  {
   "cell_type": "markdown",
   "id": "710712b0",
   "metadata": {
    "papermill": {
     "duration": 0.010183,
     "end_time": "2025-05-04T11:05:37.635737",
     "exception": false,
     "start_time": "2025-05-04T11:05:37.625554",
     "status": "completed"
    },
    "tags": []
   },
   "source": [
    "# Step 6: Data Preparation for LSTM\n",
    "\n"
   ]
  },
  {
   "cell_type": "markdown",
   "id": "5d4ed54c",
   "metadata": {
    "papermill": {
     "duration": 0.009359,
     "end_time": "2025-05-04T11:05:37.658007",
     "exception": false,
     "start_time": "2025-05-04T11:05:37.648648",
     "status": "completed"
    },
    "tags": []
   },
   "source": [
    "## 6.1: Select Relevant Features for LSTM\n",
    "_Selecting the relevant columns such as compound, Open, High, Low, Close, and Volume for model input._\n"
   ]
  },
  {
   "cell_type": "code",
   "execution_count": 14,
   "id": "c8b703ad",
   "metadata": {
    "execution": {
     "iopub.execute_input": "2025-05-04T11:05:37.678231Z",
     "iopub.status.busy": "2025-05-04T11:05:37.677883Z",
     "iopub.status.idle": "2025-05-04T11:05:37.686001Z",
     "shell.execute_reply": "2025-05-04T11:05:37.684941Z"
    },
    "papermill": {
     "duration": 0.020342,
     "end_time": "2025-05-04T11:05:37.687729",
     "exception": false,
     "start_time": "2025-05-04T11:05:37.667387",
     "status": "completed"
    },
    "tags": []
   },
   "outputs": [
    {
     "name": "stdout",
     "output_type": "stream",
     "text": [
      "Index(['compound', 'Open', 'High', 'Low', 'Close', 'Volume'], dtype='object')\n",
      "Index(['Date', 'Open', 'High', 'Low', 'Close', 'Volume'], dtype='object')\n",
      "Index(['id', 'user_name', 'user_location', 'user_description', 'user_created',\n",
      "       'user_followers', 'user_friends', 'user_favourites', 'user_verified',\n",
      "       'date', 'text', 'hashtags', 'source', 'retweets', 'favorites',\n",
      "       'is_retweet', 'compound', 'sentiment'],\n",
      "      dtype='object')\n"
     ]
    }
   ],
   "source": [
    "# Step 6.1 - Select relevant columns: compound, Open, High, Low, Close, Volume\n",
    "df_selected = merged_df[['compound', 'Open', 'High', 'Low', 'Close', 'Volume']]\n",
    "\n",
    "# Check the columns of the DataFrame\n",
    "print(df_selected.columns)\n",
    "\n",
    "# Check the columns of the DataFrame\n",
    "print(tesla_stock_data.columns)\n",
    "print(sentiment_df.columns)\n",
    "\n"
   ]
  },
  {
   "cell_type": "markdown",
   "id": "57e06dc9",
   "metadata": {
    "papermill": {
     "duration": 0.009172,
     "end_time": "2025-05-04T11:05:37.706595",
     "exception": false,
     "start_time": "2025-05-04T11:05:37.697423",
     "status": "completed"
    },
    "tags": []
   },
   "source": [
    "## 6.2: Preprocess Date and Merge Datasets\n",
    "_Standardizing the date format and merging the stock data with sentiment data._\n"
   ]
  },
  {
   "cell_type": "code",
   "execution_count": 15,
   "id": "c01fbdaf",
   "metadata": {
    "execution": {
     "iopub.execute_input": "2025-05-04T11:05:37.728197Z",
     "iopub.status.busy": "2025-05-04T11:05:37.727852Z",
     "iopub.status.idle": "2025-05-04T11:05:37.762882Z",
     "shell.execute_reply": "2025-05-04T11:05:37.761921Z"
    },
    "papermill": {
     "duration": 0.047684,
     "end_time": "2025-05-04T11:05:37.764464",
     "exception": false,
     "start_time": "2025-05-04T11:05:37.716780",
     "status": "completed"
    },
    "tags": []
   },
   "outputs": [
    {
     "data": {
      "text/html": [
       "<div>\n",
       "<style scoped>\n",
       "    .dataframe tbody tr th:only-of-type {\n",
       "        vertical-align: middle;\n",
       "    }\n",
       "\n",
       "    .dataframe tbody tr th {\n",
       "        vertical-align: top;\n",
       "    }\n",
       "\n",
       "    .dataframe thead th {\n",
       "        text-align: right;\n",
       "    }\n",
       "</style>\n",
       "<table border=\"1\" class=\"dataframe\">\n",
       "  <thead>\n",
       "    <tr style=\"text-align: right;\">\n",
       "      <th></th>\n",
       "      <th>date</th>\n",
       "      <th>Open</th>\n",
       "      <th>High</th>\n",
       "      <th>Low</th>\n",
       "      <th>Close</th>\n",
       "      <th>Volume</th>\n",
       "      <th>id</th>\n",
       "      <th>user_name</th>\n",
       "      <th>user_location</th>\n",
       "      <th>user_description</th>\n",
       "      <th>...</th>\n",
       "      <th>user_favourites</th>\n",
       "      <th>user_verified</th>\n",
       "      <th>text</th>\n",
       "      <th>hashtags</th>\n",
       "      <th>source</th>\n",
       "      <th>retweets</th>\n",
       "      <th>favorites</th>\n",
       "      <th>is_retweet</th>\n",
       "      <th>compound</th>\n",
       "      <th>sentiment</th>\n",
       "    </tr>\n",
       "  </thead>\n",
       "  <tbody>\n",
       "    <tr>\n",
       "      <th>0</th>\n",
       "      <td>2022-07-05</td>\n",
       "      <td>223.0</td>\n",
       "      <td>233.147</td>\n",
       "      <td>216.167</td>\n",
       "      <td>233.067</td>\n",
       "      <td>84779112</td>\n",
       "      <td>1544379368478212100</td>\n",
       "      <td>Elon Musk</td>\n",
       "      <td>NaN</td>\n",
       "      <td>Mars &amp; Cars, Chips &amp; Dips</td>\n",
       "      <td>...</td>\n",
       "      <td>13503</td>\n",
       "      <td>True</td>\n",
       "      <td>@BillyM2k I find the gold toe sock – inevitabl...</td>\n",
       "      <td>NaN</td>\n",
       "      <td>Twitter for iPhone</td>\n",
       "      <td>335</td>\n",
       "      <td>6542</td>\n",
       "      <td>False</td>\n",
       "      <td>-0.6378</td>\n",
       "      <td>negative</td>\n",
       "    </tr>\n",
       "    <tr>\n",
       "      <th>1</th>\n",
       "      <td>2022-07-05</td>\n",
       "      <td>223.0</td>\n",
       "      <td>233.147</td>\n",
       "      <td>216.167</td>\n",
       "      <td>233.067</td>\n",
       "      <td>84779112</td>\n",
       "      <td>1544377493263720450</td>\n",
       "      <td>Elon Musk</td>\n",
       "      <td>NaN</td>\n",
       "      <td>Mars &amp; Cars, Chips &amp; Dips</td>\n",
       "      <td>...</td>\n",
       "      <td>13503</td>\n",
       "      <td>True</td>\n",
       "      <td>Sock Con, the conference for socks</td>\n",
       "      <td>NaN</td>\n",
       "      <td>Twitter for iPhone</td>\n",
       "      <td>1451</td>\n",
       "      <td>30753</td>\n",
       "      <td>False</td>\n",
       "      <td>0.0000</td>\n",
       "      <td>neutral</td>\n",
       "    </tr>\n",
       "    <tr>\n",
       "      <th>2</th>\n",
       "      <td>2022-07-05</td>\n",
       "      <td>223.0</td>\n",
       "      <td>233.147</td>\n",
       "      <td>216.167</td>\n",
       "      <td>233.067</td>\n",
       "      <td>84779112</td>\n",
       "      <td>1544377130590552064</td>\n",
       "      <td>Elon Musk</td>\n",
       "      <td>NaN</td>\n",
       "      <td>Mars &amp; Cars, Chips &amp; Dips</td>\n",
       "      <td>...</td>\n",
       "      <td>13503</td>\n",
       "      <td>True</td>\n",
       "      <td>Always something new for the magazine cover an...</td>\n",
       "      <td>NaN</td>\n",
       "      <td>Twitter for iPhone</td>\n",
       "      <td>1284</td>\n",
       "      <td>28610</td>\n",
       "      <td>False</td>\n",
       "      <td>0.0000</td>\n",
       "      <td>neutral</td>\n",
       "    </tr>\n",
       "    <tr>\n",
       "      <th>3</th>\n",
       "      <td>2022-07-05</td>\n",
       "      <td>223.0</td>\n",
       "      <td>233.147</td>\n",
       "      <td>216.167</td>\n",
       "      <td>233.067</td>\n",
       "      <td>84779112</td>\n",
       "      <td>1544375575724400645</td>\n",
       "      <td>Elon Musk</td>\n",
       "      <td>NaN</td>\n",
       "      <td>Mars &amp; Cars, Chips &amp; Dips</td>\n",
       "      <td>...</td>\n",
       "      <td>13503</td>\n",
       "      <td>True</td>\n",
       "      <td>@ExplainThisBob This guy gets it</td>\n",
       "      <td>NaN</td>\n",
       "      <td>Twitter for iPhone</td>\n",
       "      <td>131</td>\n",
       "      <td>3640</td>\n",
       "      <td>False</td>\n",
       "      <td>0.0000</td>\n",
       "      <td>neutral</td>\n",
       "    </tr>\n",
       "    <tr>\n",
       "      <th>4</th>\n",
       "      <td>2022-07-05</td>\n",
       "      <td>223.0</td>\n",
       "      <td>233.147</td>\n",
       "      <td>216.167</td>\n",
       "      <td>233.067</td>\n",
       "      <td>84779112</td>\n",
       "      <td>1544375148605853699</td>\n",
       "      <td>Elon Musk</td>\n",
       "      <td>NaN</td>\n",
       "      <td>Mars &amp; Cars, Chips &amp; Dips</td>\n",
       "      <td>...</td>\n",
       "      <td>13503</td>\n",
       "      <td>True</td>\n",
       "      <td>Sock tech is so advanced that you can get pret...</td>\n",
       "      <td>NaN</td>\n",
       "      <td>Twitter for iPhone</td>\n",
       "      <td>1191</td>\n",
       "      <td>23790</td>\n",
       "      <td>False</td>\n",
       "      <td>0.7276</td>\n",
       "      <td>positive</td>\n",
       "    </tr>\n",
       "  </tbody>\n",
       "</table>\n",
       "<p>5 rows × 23 columns</p>\n",
       "</div>"
      ],
      "text/plain": [
       "         date   Open     High      Low    Close    Volume  \\\n",
       "0  2022-07-05  223.0  233.147  216.167  233.067  84779112   \n",
       "1  2022-07-05  223.0  233.147  216.167  233.067  84779112   \n",
       "2  2022-07-05  223.0  233.147  216.167  233.067  84779112   \n",
       "3  2022-07-05  223.0  233.147  216.167  233.067  84779112   \n",
       "4  2022-07-05  223.0  233.147  216.167  233.067  84779112   \n",
       "\n",
       "                    id  user_name user_location           user_description  \\\n",
       "0  1544379368478212100  Elon Musk           NaN  Mars & Cars, Chips & Dips   \n",
       "1  1544377493263720450  Elon Musk           NaN  Mars & Cars, Chips & Dips   \n",
       "2  1544377130590552064  Elon Musk           NaN  Mars & Cars, Chips & Dips   \n",
       "3  1544375575724400645  Elon Musk           NaN  Mars & Cars, Chips & Dips   \n",
       "4  1544375148605853699  Elon Musk           NaN  Mars & Cars, Chips & Dips   \n",
       "\n",
       "   ... user_favourites  user_verified  \\\n",
       "0  ...           13503           True   \n",
       "1  ...           13503           True   \n",
       "2  ...           13503           True   \n",
       "3  ...           13503           True   \n",
       "4  ...           13503           True   \n",
       "\n",
       "                                                text  hashtags  \\\n",
       "0  @BillyM2k I find the gold toe sock – inevitabl...       NaN   \n",
       "1                 Sock Con, the conference for socks       NaN   \n",
       "2  Always something new for the magazine cover an...       NaN   \n",
       "3                   @ExplainThisBob This guy gets it       NaN   \n",
       "4  Sock tech is so advanced that you can get pret...       NaN   \n",
       "\n",
       "               source retweets favorites is_retweet  compound  sentiment  \n",
       "0  Twitter for iPhone      335      6542      False   -0.6378   negative  \n",
       "1  Twitter for iPhone     1451     30753      False    0.0000    neutral  \n",
       "2  Twitter for iPhone     1284     28610      False    0.0000    neutral  \n",
       "3  Twitter for iPhone      131      3640      False    0.0000    neutral  \n",
       "4  Twitter for iPhone     1191     23790      False    0.7276   positive  \n",
       "\n",
       "[5 rows x 23 columns]"
      ]
     },
     "execution_count": 15,
     "metadata": {},
     "output_type": "execute_result"
    }
   ],
   "source": [
    "\n",
    "# Rename the 'Date' column in the stock data to 'date'\n",
    "tesla_stock_data.rename(columns={'Date': 'date'}, inplace=True)\n",
    "\n",
    "# Convert the 'date' column in stock data to the same format as sentiment data\n",
    "tesla_stock_data['date'] = pd.to_datetime(tesla_stock_data['date']).dt.strftime('%Y-%m-%d')\n",
    "\n",
    "# Now, merge the datasets\n",
    "merged_data = pd.merge(tesla_stock_data, sentiment_df, on='date', how='inner')\n",
    "\n",
    "# Check the first few rows of the merged data\n",
    "merged_data.head()\n"
   ]
  },
  {
   "cell_type": "markdown",
   "id": "be7915e7",
   "metadata": {
    "papermill": {
     "duration": 0.011215,
     "end_time": "2025-05-04T11:05:37.787262",
     "exception": false,
     "start_time": "2025-05-04T11:05:37.776047",
     "status": "completed"
    },
    "tags": []
   },
   "source": [
    "## 6.3: Normalize the Data for LSTM Input\n",
    "_Using MinMaxScaler to normalize numerical features such as Open, High, Low, Close, and Volume._\n"
   ]
  },
  {
   "cell_type": "code",
   "execution_count": 16,
   "id": "d50d51c4",
   "metadata": {
    "execution": {
     "iopub.execute_input": "2025-05-04T11:05:37.810628Z",
     "iopub.status.busy": "2025-05-04T11:05:37.810235Z",
     "iopub.status.idle": "2025-05-04T11:05:37.821875Z",
     "shell.execute_reply": "2025-05-04T11:05:37.820980Z"
    },
    "papermill": {
     "duration": 0.026308,
     "end_time": "2025-05-04T11:05:37.823640",
     "exception": false,
     "start_time": "2025-05-04T11:05:37.797332",
     "status": "completed"
    },
    "tags": []
   },
   "outputs": [],
   "source": [
    "from sklearn.preprocessing import MinMaxScaler\n",
    "\n",
    "# Assuming merged_data is your final merged DataFrame\n",
    "scaler = MinMaxScaler(feature_range=(0, 1))\n",
    "df_normalized = scaler.fit_transform(merged_data[['Open', 'High', 'Low', 'Close', 'Volume']])\n",
    "\n",
    "# Convert normalized data back to DataFrame if necessary\n",
    "df_normalized = pd.DataFrame(df_normalized, columns=['Open', 'High', 'Low', 'Close', 'Volume'])\n"
   ]
  },
  {
   "cell_type": "markdown",
   "id": "fdc26c84",
   "metadata": {
    "papermill": {
     "duration": 0.009542,
     "end_time": "2025-05-04T11:05:37.843019",
     "exception": false,
     "start_time": "2025-05-04T11:05:37.833477",
     "status": "completed"
    },
    "tags": []
   },
   "source": [
    "## 6.4: Create Sequences for LSTM Model\n",
    "_Creating sequences of 60 time steps to use as input (X) and the target variable (Close) as output (y)._\n"
   ]
  },
  {
   "cell_type": "code",
   "execution_count": 17,
   "id": "503127dc",
   "metadata": {
    "execution": {
     "iopub.execute_input": "2025-05-04T11:05:37.863567Z",
     "iopub.status.busy": "2025-05-04T11:05:37.863288Z",
     "iopub.status.idle": "2025-05-04T11:05:37.888435Z",
     "shell.execute_reply": "2025-05-04T11:05:37.887301Z"
    },
    "papermill": {
     "duration": 0.037237,
     "end_time": "2025-05-04T11:05:37.889980",
     "exception": false,
     "start_time": "2025-05-04T11:05:37.852743",
     "status": "completed"
    },
    "tags": []
   },
   "outputs": [
    {
     "name": "stdout",
     "output_type": "stream",
     "text": [
      "X shape: (3993, 60, 5)\n",
      "y shape: (3993,)\n"
     ]
    }
   ],
   "source": [
    "# Import NumPy\n",
    "import numpy as np\n",
    "\n",
    "# Now, run your code for sequence creation\n",
    "data = df_normalized.values\n",
    "sequence_length = 60\n",
    "X, y = [], []\n",
    "\n",
    "for i in range(sequence_length, len(data)):\n",
    "    X.append(data[i - sequence_length:i])  # Using the last 60 days as input\n",
    "    y.append(data[i, df_normalized.columns.get_loc('Close')])  # Target is 'Close'\n",
    "\n",
    "X, y = np.array(X), np.array(y)\n",
    "print(\"X shape:\", X.shape)\n",
    "print(\"y shape:\", y.shape)\n"
   ]
  },
  {
   "cell_type": "markdown",
   "id": "9a927435",
   "metadata": {
    "papermill": {
     "duration": 0.009678,
     "end_time": "2025-05-04T11:05:37.909859",
     "exception": false,
     "start_time": "2025-05-04T11:05:37.900181",
     "status": "completed"
    },
    "tags": []
   },
   "source": [
    "## Step 7: Build LSTM Model"
   ]
  },
  {
   "cell_type": "markdown",
   "id": "dd9f4b48",
   "metadata": {
    "papermill": {
     "duration": 0.011945,
     "end_time": "2025-05-04T11:05:37.931837",
     "exception": false,
     "start_time": "2025-05-04T11:05:37.919892",
     "status": "completed"
    },
    "tags": []
   },
   "source": [
    "# 1. Step 7.1 - Import Required Libraries"
   ]
  },
  {
   "cell_type": "code",
   "execution_count": 18,
   "id": "ac1a15ce",
   "metadata": {
    "execution": {
     "iopub.execute_input": "2025-05-04T11:05:37.954742Z",
     "iopub.status.busy": "2025-05-04T11:05:37.954425Z",
     "iopub.status.idle": "2025-05-04T11:05:56.830931Z",
     "shell.execute_reply": "2025-05-04T11:05:56.830029Z"
    },
    "papermill": {
     "duration": 18.889906,
     "end_time": "2025-05-04T11:05:56.832669",
     "exception": false,
     "start_time": "2025-05-04T11:05:37.942763",
     "status": "completed"
    },
    "tags": []
   },
   "outputs": [
    {
     "name": "stderr",
     "output_type": "stream",
     "text": [
      "2025-05-04 11:05:40.205673: E external/local_xla/xla/stream_executor/cuda/cuda_fft.cc:477] Unable to register cuFFT factory: Attempting to register factory for plugin cuFFT when one has already been registered\n",
      "WARNING: All log messages before absl::InitializeLog() is called are written to STDERR\n",
      "E0000 00:00:1746356740.511967      13 cuda_dnn.cc:8310] Unable to register cuDNN factory: Attempting to register factory for plugin cuDNN when one has already been registered\n",
      "E0000 00:00:1746356740.593620      13 cuda_blas.cc:1418] Unable to register cuBLAS factory: Attempting to register factory for plugin cuBLAS when one has already been registered\n"
     ]
    }
   ],
   "source": [
    "# Step 7.1 - Import Required Libraries\n",
    "from keras.models import Model\n",
    "from keras.layers import Input, Dense, Dropout, BatchNormalization, Bidirectional, LSTM, Activation\n",
    "from keras.optimizers import Adam\n",
    "from keras.callbacks import EarlyStopping, ReduceLROnPlateau\n",
    "from keras.regularizers import l2\n",
    "import tensorflow as tf\n",
    "import numpy as np\n",
    "from sklearn.model_selection import train_test_split\n",
    "from sklearn.preprocessing import StandardScaler"
   ]
  },
  {
   "cell_type": "markdown",
   "id": "3835e88f",
   "metadata": {
    "papermill": {
     "duration": 0.009605,
     "end_time": "2025-05-04T11:05:56.852674",
     "exception": false,
     "start_time": "2025-05-04T11:05:56.843069",
     "status": "completed"
    },
    "tags": []
   },
   "source": [
    "# Step 7.2 - Prepare Data for LSTM Input\n",
    "\n"
   ]
  },
  {
   "cell_type": "code",
   "execution_count": 19,
   "id": "3c8f5d71",
   "metadata": {
    "execution": {
     "iopub.execute_input": "2025-05-04T11:05:56.874107Z",
     "iopub.status.busy": "2025-05-04T11:05:56.873552Z",
     "iopub.status.idle": "2025-05-04T11:05:56.967111Z",
     "shell.execute_reply": "2025-05-04T11:05:56.965979Z"
    },
    "papermill": {
     "duration": 0.106247,
     "end_time": "2025-05-04T11:05:56.968900",
     "exception": false,
     "start_time": "2025-05-04T11:05:56.862653",
     "status": "completed"
    },
    "tags": []
   },
   "outputs": [
    {
     "name": "stdout",
     "output_type": "stream",
     "text": [
      "Original X_train shape: (3593, 60, 5)\n"
     ]
    }
   ],
   "source": [
    "# Step 7.2 - Prepare data for LSTM input\n",
    "\n",
    "# Convert to NumPy Arrays (if not already)\n",
    "X = np.array(X)\n",
    "y = np.array(y)\n",
    "\n",
    "# Standard Scaling for all features\n",
    "scaler = StandardScaler()\n",
    "X = scaler.fit_transform(X.reshape(-1, X.shape[-1])).reshape(X.shape)  # Scaling features\n",
    "\n",
    "# Train-Test Split\n",
    "X_train, X_test, y_train, y_test = train_test_split(X, y, test_size=0.1, random_state=42)  # Reduced test size\n",
    "\n",
    "# Check dimensions before reshaping\n",
    "print(f\"Original X_train shape: {X_train.shape}\")\n",
    "\n",
    "# Reshape for LSTM input: (samples, time_steps, features)\n",
    "X_train = X_train.reshape((X_train.shape[0], 60, 5))\n",
    "X_test = X_test.reshape((X_test.shape[0], 60, 5))"
   ]
  },
  {
   "cell_type": "markdown",
   "id": "71dcfd81",
   "metadata": {
    "papermill": {
     "duration": 0.010291,
     "end_time": "2025-05-04T11:05:56.989774",
     "exception": false,
     "start_time": "2025-05-04T11:05:56.979483",
     "status": "completed"
    },
    "tags": []
   },
   "source": [
    "# Step 7.3 - Define Custom Attention Layer\n"
   ]
  },
  {
   "cell_type": "code",
   "execution_count": 20,
   "id": "23331ec8",
   "metadata": {
    "execution": {
     "iopub.execute_input": "2025-05-04T11:05:57.014602Z",
     "iopub.status.busy": "2025-05-04T11:05:57.014200Z",
     "iopub.status.idle": "2025-05-04T11:05:57.110627Z",
     "shell.execute_reply": "2025-05-04T11:05:57.109237Z"
    },
    "papermill": {
     "duration": 0.111962,
     "end_time": "2025-05-04T11:05:57.112961",
     "exception": false,
     "start_time": "2025-05-04T11:05:57.000999",
     "status": "completed"
    },
    "tags": []
   },
   "outputs": [],
   "source": [
    "\n",
    "# Step 7.3 - Define Custom Attention Layer\n",
    "class Attention(tf.keras.layers.Layer):\n",
    "    def __init__(self):\n",
    "        super(Attention, self).__init__()\n",
    "\n",
    "    def build(self, input_shape):\n",
    "        self.W = self.add_weight(name='att_weight', shape=(input_shape[-1], 1),\n",
    "                                 initializer='normal', trainable=True)\n",
    "        self.b = self.add_weight(name='att_bias', shape=(input_shape[1], 1),\n",
    "                                 initializer='zeros', trainable=True)\n",
    "\n",
    "    def call(self, x):\n",
    "        e = tf.keras.backend.tanh(tf.keras.backend.dot(x, self.W) + self.b)\n",
    "        a = tf.keras.backend.softmax(e, axis=1)\n",
    "        output = x * a\n",
    "        return tf.keras.backend.sum(output, axis=1)"
   ]
  },
  {
   "cell_type": "markdown",
   "id": "98c536bb",
   "metadata": {
    "papermill": {
     "duration": 0.009936,
     "end_time": "2025-05-04T11:05:57.134413",
     "exception": false,
     "start_time": "2025-05-04T11:05:57.124477",
     "status": "completed"
    },
    "tags": []
   },
   "source": [
    "# Step 7.4 - Build and Train the LSTM Model\n"
   ]
  },
  {
   "cell_type": "code",
   "execution_count": 21,
   "id": "1ac0d9df",
   "metadata": {
    "execution": {
     "iopub.execute_input": "2025-05-04T11:05:57.157171Z",
     "iopub.status.busy": "2025-05-04T11:05:57.156813Z",
     "iopub.status.idle": "2025-05-04T11:10:48.816600Z",
     "shell.execute_reply": "2025-05-04T11:10:48.815576Z"
    },
    "papermill": {
     "duration": 291.672909,
     "end_time": "2025-05-04T11:10:48.818351",
     "exception": false,
     "start_time": "2025-05-04T11:05:57.145442",
     "status": "completed"
    },
    "tags": []
   },
   "outputs": [
    {
     "name": "stderr",
     "output_type": "stream",
     "text": [
      "2025-05-04 11:05:57.167270: E external/local_xla/xla/stream_executor/cuda/cuda_driver.cc:152] failed call to cuInit: INTERNAL: CUDA error: Failed call to cuInit: UNKNOWN ERROR (303)\n"
     ]
    },
    {
     "name": "stdout",
     "output_type": "stream",
     "text": [
      "Epoch 1/100\n",
      "\u001b[1m57/57\u001b[0m \u001b[32m━━━━━━━━━━━━━━━━━━━━\u001b[0m\u001b[37m\u001b[0m \u001b[1m11s\u001b[0m 59ms/step - loss: 0.4212 - mean_absolute_error: 0.4431 - val_loss: 0.3849 - val_mean_absolute_error: 0.3960 - learning_rate: 5.0000e-05\n",
      "Epoch 2/100\n",
      "\u001b[1m57/57\u001b[0m \u001b[32m━━━━━━━━━━━━━━━━━━━━\u001b[0m\u001b[37m\u001b[0m \u001b[1m3s\u001b[0m 45ms/step - loss: 0.3497 - mean_absolute_error: 0.3732 - val_loss: 0.3479 - val_mean_absolute_error: 0.3615 - learning_rate: 5.0000e-05\n",
      "Epoch 3/100\n",
      "\u001b[1m57/57\u001b[0m \u001b[32m━━━━━━━━━━━━━━━━━━━━\u001b[0m\u001b[37m\u001b[0m \u001b[1m3s\u001b[0m 45ms/step - loss: 0.3127 - mean_absolute_error: 0.3283 - val_loss: 0.3110 - val_mean_absolute_error: 0.3251 - learning_rate: 5.0000e-05\n",
      "Epoch 4/100\n",
      "\u001b[1m57/57\u001b[0m \u001b[32m━━━━━━━━━━━━━━━━━━━━\u001b[0m\u001b[37m\u001b[0m \u001b[1m3s\u001b[0m 46ms/step - loss: 0.2768 - mean_absolute_error: 0.2776 - val_loss: 0.2851 - val_mean_absolute_error: 0.2985 - learning_rate: 5.0000e-05\n",
      "Epoch 5/100\n",
      "\u001b[1m57/57\u001b[0m \u001b[32m━━━━━━━━━━━━━━━━━━━━\u001b[0m\u001b[37m\u001b[0m \u001b[1m3s\u001b[0m 46ms/step - loss: 0.2519 - mean_absolute_error: 0.2388 - val_loss: 0.2653 - val_mean_absolute_error: 0.2738 - learning_rate: 5.0000e-05\n",
      "Epoch 6/100\n",
      "\u001b[1m57/57\u001b[0m \u001b[32m━━━━━━━━━━━━━━━━━━━━\u001b[0m\u001b[37m\u001b[0m \u001b[1m3s\u001b[0m 48ms/step - loss: 0.2313 - mean_absolute_error: 0.2034 - val_loss: 0.2506 - val_mean_absolute_error: 0.2515 - learning_rate: 5.0000e-05\n",
      "Epoch 7/100\n",
      "\u001b[1m57/57\u001b[0m \u001b[32m━━━━━━━━━━━━━━━━━━━━\u001b[0m\u001b[37m\u001b[0m \u001b[1m3s\u001b[0m 47ms/step - loss: 0.2127 - mean_absolute_error: 0.1707 - val_loss: 0.2309 - val_mean_absolute_error: 0.2239 - learning_rate: 5.0000e-05\n",
      "Epoch 8/100\n",
      "\u001b[1m57/57\u001b[0m \u001b[32m━━━━━━━━━━━━━━━━━━━━\u001b[0m\u001b[37m\u001b[0m \u001b[1m3s\u001b[0m 45ms/step - loss: 0.1992 - mean_absolute_error: 0.1452 - val_loss: 0.2218 - val_mean_absolute_error: 0.2142 - learning_rate: 5.0000e-05\n",
      "Epoch 9/100\n",
      "\u001b[1m57/57\u001b[0m \u001b[32m━━━━━━━━━━━━━━━━━━━━\u001b[0m\u001b[37m\u001b[0m \u001b[1m3s\u001b[0m 47ms/step - loss: 0.1914 - mean_absolute_error: 0.1346 - val_loss: 0.2074 - val_mean_absolute_error: 0.1934 - learning_rate: 5.0000e-05\n",
      "Epoch 10/100\n",
      "\u001b[1m57/57\u001b[0m \u001b[32m━━━━━━━━━━━━━━━━━━━━\u001b[0m\u001b[37m\u001b[0m \u001b[1m3s\u001b[0m 48ms/step - loss: 0.1828 - mean_absolute_error: 0.1178 - val_loss: 0.1968 - val_mean_absolute_error: 0.1773 - learning_rate: 5.0000e-05\n",
      "Epoch 11/100\n",
      "\u001b[1m57/57\u001b[0m \u001b[32m━━━━━━━━━━━━━━━━━━━━\u001b[0m\u001b[37m\u001b[0m \u001b[1m3s\u001b[0m 52ms/step - loss: 0.1748 - mean_absolute_error: 0.1064 - val_loss: 0.1814 - val_mean_absolute_error: 0.1484 - learning_rate: 5.0000e-05\n",
      "Epoch 12/100\n",
      "\u001b[1m57/57\u001b[0m \u001b[32m━━━━━━━━━━━━━━━━━━━━\u001b[0m\u001b[37m\u001b[0m \u001b[1m3s\u001b[0m 48ms/step - loss: 0.1695 - mean_absolute_error: 0.1027 - val_loss: 0.1748 - val_mean_absolute_error: 0.1407 - learning_rate: 5.0000e-05\n",
      "Epoch 13/100\n",
      "\u001b[1m57/57\u001b[0m \u001b[32m━━━━━━━━━━━━━━━━━━━━\u001b[0m\u001b[37m\u001b[0m \u001b[1m3s\u001b[0m 48ms/step - loss: 0.1646 - mean_absolute_error: 0.0976 - val_loss: 0.1661 - val_mean_absolute_error: 0.1228 - learning_rate: 5.0000e-05\n",
      "Epoch 14/100\n",
      "\u001b[1m57/57\u001b[0m \u001b[32m━━━━━━━━━━━━━━━━━━━━\u001b[0m\u001b[37m\u001b[0m \u001b[1m3s\u001b[0m 46ms/step - loss: 0.1607 - mean_absolute_error: 0.0964 - val_loss: 0.1589 - val_mean_absolute_error: 0.1098 - learning_rate: 5.0000e-05\n",
      "Epoch 15/100\n",
      "\u001b[1m57/57\u001b[0m \u001b[32m━━━━━━━━━━━━━━━━━━━━\u001b[0m\u001b[37m\u001b[0m \u001b[1m3s\u001b[0m 47ms/step - loss: 0.1565 - mean_absolute_error: 0.0944 - val_loss: 0.1525 - val_mean_absolute_error: 0.0969 - learning_rate: 5.0000e-05\n",
      "Epoch 16/100\n",
      "\u001b[1m57/57\u001b[0m \u001b[32m━━━━━━━━━━━━━━━━━━━━\u001b[0m\u001b[37m\u001b[0m \u001b[1m3s\u001b[0m 46ms/step - loss: 0.1519 - mean_absolute_error: 0.0901 - val_loss: 0.1466 - val_mean_absolute_error: 0.0882 - learning_rate: 5.0000e-05\n",
      "Epoch 17/100\n",
      "\u001b[1m57/57\u001b[0m \u001b[32m━━━━━━━━━━━━━━━━━━━━\u001b[0m\u001b[37m\u001b[0m \u001b[1m3s\u001b[0m 49ms/step - loss: 0.1489 - mean_absolute_error: 0.0928 - val_loss: 0.1440 - val_mean_absolute_error: 0.0867 - learning_rate: 5.0000e-05\n",
      "Epoch 18/100\n",
      "\u001b[1m57/57\u001b[0m \u001b[32m━━━━━━━━━━━━━━━━━━━━\u001b[0m\u001b[37m\u001b[0m \u001b[1m3s\u001b[0m 48ms/step - loss: 0.1458 - mean_absolute_error: 0.0922 - val_loss: 0.1415 - val_mean_absolute_error: 0.0898 - learning_rate: 5.0000e-05\n",
      "Epoch 19/100\n",
      "\u001b[1m57/57\u001b[0m \u001b[32m━━━━━━━━━━━━━━━━━━━━\u001b[0m\u001b[37m\u001b[0m \u001b[1m3s\u001b[0m 49ms/step - loss: 0.1426 - mean_absolute_error: 0.0924 - val_loss: 0.1338 - val_mean_absolute_error: 0.0739 - learning_rate: 5.0000e-05\n",
      "Epoch 20/100\n",
      "\u001b[1m57/57\u001b[0m \u001b[32m━━━━━━━━━━━━━━━━━━━━\u001b[0m\u001b[37m\u001b[0m \u001b[1m3s\u001b[0m 49ms/step - loss: 0.1387 - mean_absolute_error: 0.0905 - val_loss: 0.1325 - val_mean_absolute_error: 0.0804 - learning_rate: 5.0000e-05\n",
      "Epoch 21/100\n",
      "\u001b[1m57/57\u001b[0m \u001b[32m━━━━━━━━━━━━━━━━━━━━\u001b[0m\u001b[37m\u001b[0m \u001b[1m3s\u001b[0m 49ms/step - loss: 0.1351 - mean_absolute_error: 0.0891 - val_loss: 0.1280 - val_mean_absolute_error: 0.0732 - learning_rate: 5.0000e-05\n",
      "Epoch 22/100\n",
      "\u001b[1m57/57\u001b[0m \u001b[32m━━━━━━━━━━━━━━━━━━━━\u001b[0m\u001b[37m\u001b[0m \u001b[1m3s\u001b[0m 47ms/step - loss: 0.1318 - mean_absolute_error: 0.0856 - val_loss: 0.1236 - val_mean_absolute_error: 0.0674 - learning_rate: 5.0000e-05\n",
      "Epoch 23/100\n",
      "\u001b[1m57/57\u001b[0m \u001b[32m━━━━━━━━━━━━━━━━━━━━\u001b[0m\u001b[37m\u001b[0m \u001b[1m3s\u001b[0m 55ms/step - loss: 0.1278 - mean_absolute_error: 0.0833 - val_loss: 0.1212 - val_mean_absolute_error: 0.0691 - learning_rate: 5.0000e-05\n",
      "Epoch 24/100\n",
      "\u001b[1m57/57\u001b[0m \u001b[32m━━━━━━━━━━━━━━━━━━━━\u001b[0m\u001b[37m\u001b[0m \u001b[1m3s\u001b[0m 46ms/step - loss: 0.1262 - mean_absolute_error: 0.0873 - val_loss: 0.1163 - val_mean_absolute_error: 0.0591 - learning_rate: 5.0000e-05\n",
      "Epoch 25/100\n",
      "\u001b[1m57/57\u001b[0m \u001b[32m━━━━━━━━━━━━━━━━━━━━\u001b[0m\u001b[37m\u001b[0m \u001b[1m3s\u001b[0m 46ms/step - loss: 0.1224 - mean_absolute_error: 0.0858 - val_loss: 0.1155 - val_mean_absolute_error: 0.0663 - learning_rate: 5.0000e-05\n",
      "Epoch 26/100\n",
      "\u001b[1m57/57\u001b[0m \u001b[32m━━━━━━━━━━━━━━━━━━━━\u001b[0m\u001b[37m\u001b[0m \u001b[1m3s\u001b[0m 45ms/step - loss: 0.1196 - mean_absolute_error: 0.0857 - val_loss: 0.1123 - val_mean_absolute_error: 0.0656 - learning_rate: 5.0000e-05\n",
      "Epoch 27/100\n",
      "\u001b[1m57/57\u001b[0m \u001b[32m━━━━━━━━━━━━━━━━━━━━\u001b[0m\u001b[37m\u001b[0m \u001b[1m3s\u001b[0m 46ms/step - loss: 0.1176 - mean_absolute_error: 0.0872 - val_loss: 0.1105 - val_mean_absolute_error: 0.0684 - learning_rate: 5.0000e-05\n",
      "Epoch 28/100\n",
      "\u001b[1m57/57\u001b[0m \u001b[32m━━━━━━━━━━━━━━━━━━━━\u001b[0m\u001b[37m\u001b[0m \u001b[1m3s\u001b[0m 47ms/step - loss: 0.1139 - mean_absolute_error: 0.0830 - val_loss: 0.1083 - val_mean_absolute_error: 0.0698 - learning_rate: 5.0000e-05\n",
      "Epoch 29/100\n",
      "\u001b[1m57/57\u001b[0m \u001b[32m━━━━━━━━━━━━━━━━━━━━\u001b[0m\u001b[37m\u001b[0m \u001b[1m3s\u001b[0m 45ms/step - loss: 0.1118 - mean_absolute_error: 0.0837 - val_loss: 0.1075 - val_mean_absolute_error: 0.0753 - learning_rate: 5.0000e-05\n",
      "Epoch 30/100\n",
      "\u001b[1m57/57\u001b[0m \u001b[32m━━━━━━━━━━━━━━━━━━━━\u001b[0m\u001b[37m\u001b[0m \u001b[1m3s\u001b[0m 45ms/step - loss: 0.1097 - mean_absolute_error: 0.0862 - val_loss: 0.1014 - val_mean_absolute_error: 0.0621 - learning_rate: 5.0000e-05\n",
      "Epoch 31/100\n",
      "\u001b[1m57/57\u001b[0m \u001b[32m━━━━━━━━━━━━━━━━━━━━\u001b[0m\u001b[37m\u001b[0m \u001b[1m3s\u001b[0m 47ms/step - loss: 0.1067 - mean_absolute_error: 0.0839 - val_loss: 0.1004 - val_mean_absolute_error: 0.0660 - learning_rate: 5.0000e-05\n",
      "Epoch 32/100\n",
      "\u001b[1m57/57\u001b[0m \u001b[32m━━━━━━━━━━━━━━━━━━━━\u001b[0m\u001b[37m\u001b[0m \u001b[1m3s\u001b[0m 46ms/step - loss: 0.1055 - mean_absolute_error: 0.0861 - val_loss: 0.0977 - val_mean_absolute_error: 0.0655 - learning_rate: 5.0000e-05\n",
      "Epoch 33/100\n",
      "\u001b[1m57/57\u001b[0m \u001b[32m━━━━━━━━━━━━━━━━━━━━\u001b[0m\u001b[37m\u001b[0m \u001b[1m3s\u001b[0m 45ms/step - loss: 0.1020 - mean_absolute_error: 0.0834 - val_loss: 0.0959 - val_mean_absolute_error: 0.0665 - learning_rate: 5.0000e-05\n",
      "Epoch 34/100\n",
      "\u001b[1m57/57\u001b[0m \u001b[32m━━━━━━━━━━━━━━━━━━━━\u001b[0m\u001b[37m\u001b[0m \u001b[1m3s\u001b[0m 45ms/step - loss: 0.1002 - mean_absolute_error: 0.0832 - val_loss: 0.0922 - val_mean_absolute_error: 0.0608 - learning_rate: 5.0000e-05\n",
      "Epoch 35/100\n",
      "\u001b[1m57/57\u001b[0m \u001b[32m━━━━━━━━━━━━━━━━━━━━\u001b[0m\u001b[37m\u001b[0m \u001b[1m3s\u001b[0m 53ms/step - loss: 0.0990 - mean_absolute_error: 0.0854 - val_loss: 0.0903 - val_mean_absolute_error: 0.0598 - learning_rate: 5.0000e-05\n",
      "Epoch 36/100\n",
      "\u001b[1m57/57\u001b[0m \u001b[32m━━━━━━━━━━━━━━━━━━━━\u001b[0m\u001b[37m\u001b[0m \u001b[1m3s\u001b[0m 46ms/step - loss: 0.0960 - mean_absolute_error: 0.0824 - val_loss: 0.0897 - val_mean_absolute_error: 0.0632 - learning_rate: 5.0000e-05\n",
      "Epoch 37/100\n",
      "\u001b[1m57/57\u001b[0m \u001b[32m━━━━━━━━━━━━━━━━━━━━\u001b[0m\u001b[37m\u001b[0m \u001b[1m5s\u001b[0m 45ms/step - loss: 0.0933 - mean_absolute_error: 0.0803 - val_loss: 0.0848 - val_mean_absolute_error: 0.0521 - learning_rate: 5.0000e-05\n",
      "Epoch 38/100\n",
      "\u001b[1m57/57\u001b[0m \u001b[32m━━━━━━━━━━━━━━━━━━━━\u001b[0m\u001b[37m\u001b[0m \u001b[1m3s\u001b[0m 48ms/step - loss: 0.0922 - mean_absolute_error: 0.0843 - val_loss: 0.0849 - val_mean_absolute_error: 0.0618 - learning_rate: 5.0000e-05\n",
      "Epoch 39/100\n",
      "\u001b[1m57/57\u001b[0m \u001b[32m━━━━━━━━━━━━━━━━━━━━\u001b[0m\u001b[37m\u001b[0m \u001b[1m3s\u001b[0m 46ms/step - loss: 0.0904 - mean_absolute_error: 0.0846 - val_loss: 0.0822 - val_mean_absolute_error: 0.0567 - learning_rate: 5.0000e-05\n",
      "Epoch 40/100\n",
      "\u001b[1m57/57\u001b[0m \u001b[32m━━━━━━━━━━━━━━━━━━━━\u001b[0m\u001b[37m\u001b[0m \u001b[1m3s\u001b[0m 45ms/step - loss: 0.0882 - mean_absolute_error: 0.0822 - val_loss: 0.0779 - val_mean_absolute_error: 0.0451 - learning_rate: 5.0000e-05\n",
      "Epoch 41/100\n",
      "\u001b[1m57/57\u001b[0m \u001b[32m━━━━━━━━━━━━━━━━━━━━\u001b[0m\u001b[37m\u001b[0m \u001b[1m3s\u001b[0m 46ms/step - loss: 0.0861 - mean_absolute_error: 0.0830 - val_loss: 0.0770 - val_mean_absolute_error: 0.0497 - learning_rate: 5.0000e-05\n",
      "Epoch 42/100\n",
      "\u001b[1m57/57\u001b[0m \u001b[32m━━━━━━━━━━━━━━━━━━━━\u001b[0m\u001b[37m\u001b[0m \u001b[1m3s\u001b[0m 51ms/step - loss: 0.0839 - mean_absolute_error: 0.0800 - val_loss: 0.0776 - val_mean_absolute_error: 0.0595 - learning_rate: 5.0000e-05\n",
      "Epoch 43/100\n",
      "\u001b[1m57/57\u001b[0m \u001b[32m━━━━━━━━━━━━━━━━━━━━\u001b[0m\u001b[37m\u001b[0m \u001b[1m3s\u001b[0m 46ms/step - loss: 0.0827 - mean_absolute_error: 0.0816 - val_loss: 0.0768 - val_mean_absolute_error: 0.0633 - learning_rate: 5.0000e-05\n",
      "Epoch 44/100\n",
      "\u001b[1m57/57\u001b[0m \u001b[32m━━━━━━━━━━━━━━━━━━━━\u001b[0m\u001b[37m\u001b[0m \u001b[1m3s\u001b[0m 45ms/step - loss: 0.0804 - mean_absolute_error: 0.0796 - val_loss: 0.0748 - val_mean_absolute_error: 0.0607 - learning_rate: 5.0000e-05\n",
      "Epoch 45/100\n",
      "\u001b[1m57/57\u001b[0m \u001b[32m━━━━━━━━━━━━━━━━━━━━\u001b[0m\u001b[37m\u001b[0m \u001b[1m3s\u001b[0m 45ms/step - loss: 0.0791 - mean_absolute_error: 0.0786 - val_loss: 0.0747 - val_mean_absolute_error: 0.0642 - learning_rate: 5.0000e-05\n",
      "Epoch 46/100\n",
      "\u001b[1m57/57\u001b[0m \u001b[32m━━━━━━━━━━━━━━━━━━━━\u001b[0m\u001b[37m\u001b[0m \u001b[1m3s\u001b[0m 53ms/step - loss: 0.0774 - mean_absolute_error: 0.0797 - val_loss: 0.0717 - val_mean_absolute_error: 0.0625 - learning_rate: 5.0000e-05\n",
      "Epoch 47/100\n",
      "\u001b[1m57/57\u001b[0m \u001b[32m━━━━━━━━━━━━━━━━━━━━\u001b[0m\u001b[37m\u001b[0m \u001b[1m3s\u001b[0m 48ms/step - loss: 0.0764 - mean_absolute_error: 0.0799 - val_loss: 0.0706 - val_mean_absolute_error: 0.0634 - learning_rate: 5.0000e-05\n",
      "Epoch 48/100\n",
      "\u001b[1m57/57\u001b[0m \u001b[32m━━━━━━━━━━━━━━━━━━━━\u001b[0m\u001b[37m\u001b[0m \u001b[1m3s\u001b[0m 46ms/step - loss: 0.0745 - mean_absolute_error: 0.0798 - val_loss: 0.0686 - val_mean_absolute_error: 0.0595 - learning_rate: 5.0000e-05\n",
      "Epoch 49/100\n",
      "\u001b[1m57/57\u001b[0m \u001b[32m━━━━━━━━━━━━━━━━━━━━\u001b[0m\u001b[37m\u001b[0m \u001b[1m3s\u001b[0m 46ms/step - loss: 0.0728 - mean_absolute_error: 0.0793 - val_loss: 0.0675 - val_mean_absolute_error: 0.0578 - learning_rate: 5.0000e-05\n",
      "Epoch 50/100\n",
      "\u001b[1m57/57\u001b[0m \u001b[32m━━━━━━━━━━━━━━━━━━━━\u001b[0m\u001b[37m\u001b[0m \u001b[1m3s\u001b[0m 47ms/step - loss: 0.0724 - mean_absolute_error: 0.0799 - val_loss: 0.0641 - val_mean_absolute_error: 0.0485 - learning_rate: 5.0000e-05\n",
      "Epoch 51/100\n",
      "\u001b[1m57/57\u001b[0m \u001b[32m━━━━━━━━━━━━━━━━━━━━\u001b[0m\u001b[37m\u001b[0m \u001b[1m3s\u001b[0m 45ms/step - loss: 0.0705 - mean_absolute_error: 0.0791 - val_loss: 0.0635 - val_mean_absolute_error: 0.0556 - learning_rate: 5.0000e-05\n",
      "Epoch 52/100\n",
      "\u001b[1m57/57\u001b[0m \u001b[32m━━━━━━━━━━━━━━━━━━━━\u001b[0m\u001b[37m\u001b[0m \u001b[1m3s\u001b[0m 46ms/step - loss: 0.0693 - mean_absolute_error: 0.0798 - val_loss: 0.0610 - val_mean_absolute_error: 0.0493 - learning_rate: 5.0000e-05\n",
      "Epoch 53/100\n",
      "\u001b[1m57/57\u001b[0m \u001b[32m━━━━━━━━━━━━━━━━━━━━\u001b[0m\u001b[37m\u001b[0m \u001b[1m3s\u001b[0m 47ms/step - loss: 0.0684 - mean_absolute_error: 0.0795 - val_loss: 0.0603 - val_mean_absolute_error: 0.0527 - learning_rate: 5.0000e-05\n",
      "Epoch 54/100\n",
      "\u001b[1m57/57\u001b[0m \u001b[32m━━━━━━━━━━━━━━━━━━━━\u001b[0m\u001b[37m\u001b[0m \u001b[1m3s\u001b[0m 48ms/step - loss: 0.0668 - mean_absolute_error: 0.0787 - val_loss: 0.0598 - val_mean_absolute_error: 0.0543 - learning_rate: 5.0000e-05\n",
      "Epoch 55/100\n",
      "\u001b[1m57/57\u001b[0m \u001b[32m━━━━━━━━━━━━━━━━━━━━\u001b[0m\u001b[37m\u001b[0m \u001b[1m3s\u001b[0m 47ms/step - loss: 0.0656 - mean_absolute_error: 0.0792 - val_loss: 0.0603 - val_mean_absolute_error: 0.0583 - learning_rate: 5.0000e-05\n",
      "Epoch 56/100\n",
      "\u001b[1m57/57\u001b[0m \u001b[32m━━━━━━━━━━━━━━━━━━━━\u001b[0m\u001b[37m\u001b[0m \u001b[1m3s\u001b[0m 46ms/step - loss: 0.0630 - mean_absolute_error: 0.0735 - val_loss: 0.0582 - val_mean_absolute_error: 0.0557 - learning_rate: 5.0000e-05\n",
      "Epoch 57/100\n",
      "\u001b[1m57/57\u001b[0m \u001b[32m━━━━━━━━━━━━━━━━━━━━\u001b[0m\u001b[37m\u001b[0m \u001b[1m3s\u001b[0m 47ms/step - loss: 0.0630 - mean_absolute_error: 0.0770 - val_loss: 0.0616 - val_mean_absolute_error: 0.0673 - learning_rate: 5.0000e-05\n",
      "Epoch 58/100\n",
      "\u001b[1m57/57\u001b[0m \u001b[32m━━━━━━━━━━━━━━━━━━━━\u001b[0m\u001b[37m\u001b[0m \u001b[1m3s\u001b[0m 51ms/step - loss: 0.0630 - mean_absolute_error: 0.0804 - val_loss: 0.0574 - val_mean_absolute_error: 0.0651 - learning_rate: 5.0000e-05\n",
      "Epoch 59/100\n",
      "\u001b[1m57/57\u001b[0m \u001b[32m━━━━━━━━━━━━━━━━━━━━\u001b[0m\u001b[37m\u001b[0m \u001b[1m3s\u001b[0m 48ms/step - loss: 0.0614 - mean_absolute_error: 0.0800 - val_loss: 0.0558 - val_mean_absolute_error: 0.0594 - learning_rate: 5.0000e-05\n",
      "Epoch 60/100\n",
      "\u001b[1m57/57\u001b[0m \u001b[32m━━━━━━━━━━━━━━━━━━━━\u001b[0m\u001b[37m\u001b[0m \u001b[1m3s\u001b[0m 45ms/step - loss: 0.0595 - mean_absolute_error: 0.0772 - val_loss: 0.0530 - val_mean_absolute_error: 0.0505 - learning_rate: 5.0000e-05\n",
      "Epoch 61/100\n",
      "\u001b[1m57/57\u001b[0m \u001b[32m━━━━━━━━━━━━━━━━━━━━\u001b[0m\u001b[37m\u001b[0m \u001b[1m5s\u001b[0m 45ms/step - loss: 0.0589 - mean_absolute_error: 0.0768 - val_loss: 0.0505 - val_mean_absolute_error: 0.0452 - learning_rate: 5.0000e-05\n",
      "Epoch 62/100\n",
      "\u001b[1m57/57\u001b[0m \u001b[32m━━━━━━━━━━━━━━━━━━━━\u001b[0m\u001b[37m\u001b[0m \u001b[1m3s\u001b[0m 47ms/step - loss: 0.0580 - mean_absolute_error: 0.0774 - val_loss: 0.0509 - val_mean_absolute_error: 0.0511 - learning_rate: 5.0000e-05\n",
      "Epoch 63/100\n",
      "\u001b[1m57/57\u001b[0m \u001b[32m━━━━━━━━━━━━━━━━━━━━\u001b[0m\u001b[37m\u001b[0m \u001b[1m3s\u001b[0m 47ms/step - loss: 0.0567 - mean_absolute_error: 0.0757 - val_loss: 0.0506 - val_mean_absolute_error: 0.0519 - learning_rate: 5.0000e-05\n",
      "Epoch 64/100\n",
      "\u001b[1m57/57\u001b[0m \u001b[32m━━━━━━━━━━━━━━━━━━━━\u001b[0m\u001b[37m\u001b[0m \u001b[1m3s\u001b[0m 49ms/step - loss: 0.0562 - mean_absolute_error: 0.0787 - val_loss: 0.0485 - val_mean_absolute_error: 0.0485 - learning_rate: 5.0000e-05\n",
      "Epoch 65/100\n",
      "\u001b[1m57/57\u001b[0m \u001b[32m━━━━━━━━━━━━━━━━━━━━\u001b[0m\u001b[37m\u001b[0m \u001b[1m3s\u001b[0m 47ms/step - loss: 0.0540 - mean_absolute_error: 0.0732 - val_loss: 0.0478 - val_mean_absolute_error: 0.0479 - learning_rate: 5.0000e-05\n",
      "Epoch 66/100\n",
      "\u001b[1m57/57\u001b[0m \u001b[32m━━━━━━━━━━━━━━━━━━━━\u001b[0m\u001b[37m\u001b[0m \u001b[1m3s\u001b[0m 47ms/step - loss: 0.0540 - mean_absolute_error: 0.0764 - val_loss: 0.0456 - val_mean_absolute_error: 0.0415 - learning_rate: 5.0000e-05\n",
      "Epoch 67/100\n",
      "\u001b[1m57/57\u001b[0m \u001b[32m━━━━━━━━━━━━━━━━━━━━\u001b[0m\u001b[37m\u001b[0m \u001b[1m3s\u001b[0m 47ms/step - loss: 0.0527 - mean_absolute_error: 0.0728 - val_loss: 0.0462 - val_mean_absolute_error: 0.0493 - learning_rate: 5.0000e-05\n",
      "Epoch 68/100\n",
      "\u001b[1m57/57\u001b[0m \u001b[32m━━━━━━━━━━━━━━━━━━━━\u001b[0m\u001b[37m\u001b[0m \u001b[1m3s\u001b[0m 46ms/step - loss: 0.0523 - mean_absolute_error: 0.0752 - val_loss: 0.0446 - val_mean_absolute_error: 0.0424 - learning_rate: 5.0000e-05\n",
      "Epoch 69/100\n",
      "\u001b[1m57/57\u001b[0m \u001b[32m━━━━━━━━━━━━━━━━━━━━\u001b[0m\u001b[37m\u001b[0m \u001b[1m3s\u001b[0m 51ms/step - loss: 0.0509 - mean_absolute_error: 0.0728 - val_loss: 0.0445 - val_mean_absolute_error: 0.0483 - learning_rate: 5.0000e-05\n",
      "Epoch 70/100\n",
      "\u001b[1m57/57\u001b[0m \u001b[32m━━━━━━━━━━━━━━━━━━━━\u001b[0m\u001b[37m\u001b[0m \u001b[1m3s\u001b[0m 53ms/step - loss: 0.0505 - mean_absolute_error: 0.0749 - val_loss: 0.0424 - val_mean_absolute_error: 0.0373 - learning_rate: 5.0000e-05\n",
      "Epoch 71/100\n",
      "\u001b[1m57/57\u001b[0m \u001b[32m━━━━━━━━━━━━━━━━━━━━\u001b[0m\u001b[37m\u001b[0m \u001b[1m3s\u001b[0m 48ms/step - loss: 0.0511 - mean_absolute_error: 0.0777 - val_loss: 0.0409 - val_mean_absolute_error: 0.0320 - learning_rate: 5.0000e-05\n",
      "Epoch 72/100\n",
      "\u001b[1m57/57\u001b[0m \u001b[32m━━━━━━━━━━━━━━━━━━━━\u001b[0m\u001b[37m\u001b[0m \u001b[1m3s\u001b[0m 46ms/step - loss: 0.0488 - mean_absolute_error: 0.0734 - val_loss: 0.0410 - val_mean_absolute_error: 0.0380 - learning_rate: 5.0000e-05\n",
      "Epoch 73/100\n",
      "\u001b[1m57/57\u001b[0m \u001b[32m━━━━━━━━━━━━━━━━━━━━\u001b[0m\u001b[37m\u001b[0m \u001b[1m3s\u001b[0m 47ms/step - loss: 0.0484 - mean_absolute_error: 0.0744 - val_loss: 0.0411 - val_mean_absolute_error: 0.0448 - learning_rate: 5.0000e-05\n",
      "Epoch 74/100\n",
      "\u001b[1m57/57\u001b[0m \u001b[32m━━━━━━━━━━━━━━━━━━━━\u001b[0m\u001b[37m\u001b[0m \u001b[1m5s\u001b[0m 47ms/step - loss: 0.0486 - mean_absolute_error: 0.0760 - val_loss: 0.0392 - val_mean_absolute_error: 0.0353 - learning_rate: 5.0000e-05\n",
      "Epoch 75/100\n",
      "\u001b[1m57/57\u001b[0m \u001b[32m━━━━━━━━━━━━━━━━━━━━\u001b[0m\u001b[37m\u001b[0m \u001b[1m3s\u001b[0m 47ms/step - loss: 0.0468 - mean_absolute_error: 0.0748 - val_loss: 0.0395 - val_mean_absolute_error: 0.0430 - learning_rate: 5.0000e-05\n",
      "Epoch 76/100\n",
      "\u001b[1m57/57\u001b[0m \u001b[32m━━━━━━━━━━━━━━━━━━━━\u001b[0m\u001b[37m\u001b[0m \u001b[1m3s\u001b[0m 45ms/step - loss: 0.0463 - mean_absolute_error: 0.0734 - val_loss: 0.0380 - val_mean_absolute_error: 0.0367 - learning_rate: 5.0000e-05\n",
      "Epoch 77/100\n",
      "\u001b[1m57/57\u001b[0m \u001b[32m━━━━━━━━━━━━━━━━━━━━\u001b[0m\u001b[37m\u001b[0m \u001b[1m3s\u001b[0m 47ms/step - loss: 0.0455 - mean_absolute_error: 0.0735 - val_loss: 0.0370 - val_mean_absolute_error: 0.0310 - learning_rate: 5.0000e-05\n",
      "Epoch 78/100\n",
      "\u001b[1m57/57\u001b[0m \u001b[32m━━━━━━━━━━━━━━━━━━━━\u001b[0m\u001b[37m\u001b[0m \u001b[1m3s\u001b[0m 45ms/step - loss: 0.0450 - mean_absolute_error: 0.0739 - val_loss: 0.0369 - val_mean_absolute_error: 0.0342 - learning_rate: 5.0000e-05\n",
      "Epoch 79/100\n",
      "\u001b[1m57/57\u001b[0m \u001b[32m━━━━━━━━━━━━━━━━━━━━\u001b[0m\u001b[37m\u001b[0m \u001b[1m3s\u001b[0m 46ms/step - loss: 0.0448 - mean_absolute_error: 0.0742 - val_loss: 0.0360 - val_mean_absolute_error: 0.0323 - learning_rate: 5.0000e-05\n",
      "Epoch 80/100\n",
      "\u001b[1m57/57\u001b[0m \u001b[32m━━━━━━━━━━━━━━━━━━━━\u001b[0m\u001b[37m\u001b[0m \u001b[1m3s\u001b[0m 49ms/step - loss: 0.0445 - mean_absolute_error: 0.0754 - val_loss: 0.0353 - val_mean_absolute_error: 0.0318 - learning_rate: 5.0000e-05\n",
      "Epoch 81/100\n",
      "\u001b[1m57/57\u001b[0m \u001b[32m━━━━━━━━━━━━━━━━━━━━\u001b[0m\u001b[37m\u001b[0m \u001b[1m3s\u001b[0m 50ms/step - loss: 0.0423 - mean_absolute_error: 0.0699 - val_loss: 0.0365 - val_mean_absolute_error: 0.0439 - learning_rate: 5.0000e-05\n",
      "Epoch 82/100\n",
      "\u001b[1m57/57\u001b[0m \u001b[32m━━━━━━━━━━━━━━━━━━━━\u001b[0m\u001b[37m\u001b[0m \u001b[1m3s\u001b[0m 46ms/step - loss: 0.0423 - mean_absolute_error: 0.0721 - val_loss: 0.0356 - val_mean_absolute_error: 0.0415 - learning_rate: 5.0000e-05\n",
      "Epoch 83/100\n",
      "\u001b[1m57/57\u001b[0m \u001b[32m━━━━━━━━━━━━━━━━━━━━\u001b[0m\u001b[37m\u001b[0m \u001b[1m3s\u001b[0m 46ms/step - loss: 0.0424 - mean_absolute_error: 0.0723 - val_loss: 0.0341 - val_mean_absolute_error: 0.0357 - learning_rate: 5.0000e-05\n",
      "Epoch 84/100\n",
      "\u001b[1m57/57\u001b[0m \u001b[32m━━━━━━━━━━━━━━━━━━━━\u001b[0m\u001b[37m\u001b[0m \u001b[1m3s\u001b[0m 51ms/step - loss: 0.0422 - mean_absolute_error: 0.0746 - val_loss: 0.0340 - val_mean_absolute_error: 0.0364 - learning_rate: 5.0000e-05\n",
      "Epoch 85/100\n",
      "\u001b[1m57/57\u001b[0m \u001b[32m━━━━━━━━━━━━━━━━━━━━\u001b[0m\u001b[37m\u001b[0m \u001b[1m3s\u001b[0m 54ms/step - loss: 0.0413 - mean_absolute_error: 0.0728 - val_loss: 0.0340 - val_mean_absolute_error: 0.0412 - learning_rate: 5.0000e-05\n",
      "Epoch 86/100\n",
      "\u001b[1m57/57\u001b[0m \u001b[32m━━━━━━━━━━━━━━━━━━━━\u001b[0m\u001b[37m\u001b[0m \u001b[1m3s\u001b[0m 46ms/step - loss: 0.0401 - mean_absolute_error: 0.0721 - val_loss: 0.0318 - val_mean_absolute_error: 0.0256 - learning_rate: 5.0000e-05\n",
      "Epoch 87/100\n",
      "\u001b[1m57/57\u001b[0m \u001b[32m━━━━━━━━━━━━━━━━━━━━\u001b[0m\u001b[37m\u001b[0m \u001b[1m3s\u001b[0m 45ms/step - loss: 0.0399 - mean_absolute_error: 0.0714 - val_loss: 0.0324 - val_mean_absolute_error: 0.0332 - learning_rate: 5.0000e-05\n",
      "Epoch 88/100\n",
      "\u001b[1m57/57\u001b[0m \u001b[32m━━━━━━━━━━━━━━━━━━━━\u001b[0m\u001b[37m\u001b[0m \u001b[1m3s\u001b[0m 47ms/step - loss: 0.0393 - mean_absolute_error: 0.0706 - val_loss: 0.0318 - val_mean_absolute_error: 0.0331 - learning_rate: 5.0000e-05\n",
      "Epoch 89/100\n",
      "\u001b[1m57/57\u001b[0m \u001b[32m━━━━━━━━━━━━━━━━━━━━\u001b[0m\u001b[37m\u001b[0m \u001b[1m3s\u001b[0m 44ms/step - loss: 0.0401 - mean_absolute_error: 0.0754 - val_loss: 0.0314 - val_mean_absolute_error: 0.0344 - learning_rate: 5.0000e-05\n",
      "Epoch 90/100\n",
      "\u001b[1m57/57\u001b[0m \u001b[32m━━━━━━━━━━━━━━━━━━━━\u001b[0m\u001b[37m\u001b[0m \u001b[1m3s\u001b[0m 45ms/step - loss: 0.0381 - mean_absolute_error: 0.0689 - val_loss: 0.0304 - val_mean_absolute_error: 0.0289 - learning_rate: 5.0000e-05\n",
      "Epoch 91/100\n",
      "\u001b[1m57/57\u001b[0m \u001b[32m━━━━━━━━━━━━━━━━━━━━\u001b[0m\u001b[37m\u001b[0m \u001b[1m3s\u001b[0m 47ms/step - loss: 0.0379 - mean_absolute_error: 0.0717 - val_loss: 0.0304 - val_mean_absolute_error: 0.0326 - learning_rate: 5.0000e-05\n",
      "Epoch 92/100\n",
      "\u001b[1m57/57\u001b[0m \u001b[32m━━━━━━━━━━━━━━━━━━━━\u001b[0m\u001b[37m\u001b[0m \u001b[1m5s\u001b[0m 49ms/step - loss: 0.0383 - mean_absolute_error: 0.0732 - val_loss: 0.0296 - val_mean_absolute_error: 0.0282 - learning_rate: 5.0000e-05\n",
      "Epoch 93/100\n",
      "\u001b[1m57/57\u001b[0m \u001b[32m━━━━━━━━━━━━━━━━━━━━\u001b[0m\u001b[37m\u001b[0m \u001b[1m3s\u001b[0m 45ms/step - loss: 0.0381 - mean_absolute_error: 0.0738 - val_loss: 0.0300 - val_mean_absolute_error: 0.0354 - learning_rate: 5.0000e-05\n",
      "Epoch 94/100\n",
      "\u001b[1m57/57\u001b[0m \u001b[32m━━━━━━━━━━━━━━━━━━━━\u001b[0m\u001b[37m\u001b[0m \u001b[1m3s\u001b[0m 47ms/step - loss: 0.0368 - mean_absolute_error: 0.0708 - val_loss: 0.0304 - val_mean_absolute_error: 0.0416 - learning_rate: 5.0000e-05\n",
      "Epoch 95/100\n",
      "\u001b[1m57/57\u001b[0m \u001b[32m━━━━━━━━━━━━━━━━━━━━\u001b[0m\u001b[37m\u001b[0m \u001b[1m3s\u001b[0m 46ms/step - loss: 0.0369 - mean_absolute_error: 0.0735 - val_loss: 0.0285 - val_mean_absolute_error: 0.0295 - learning_rate: 5.0000e-05\n",
      "Epoch 96/100\n",
      "\u001b[1m57/57\u001b[0m \u001b[32m━━━━━━━━━━━━━━━━━━━━\u001b[0m\u001b[37m\u001b[0m \u001b[1m3s\u001b[0m 46ms/step - loss: 0.0369 - mean_absolute_error: 0.0728 - val_loss: 0.0291 - val_mean_absolute_error: 0.0354 - learning_rate: 5.0000e-05\n",
      "Epoch 97/100\n",
      "\u001b[1m57/57\u001b[0m \u001b[32m━━━━━━━━━━━━━━━━━━━━\u001b[0m\u001b[37m\u001b[0m \u001b[1m3s\u001b[0m 45ms/step - loss: 0.0355 - mean_absolute_error: 0.0704 - val_loss: 0.0285 - val_mean_absolute_error: 0.0334 - learning_rate: 5.0000e-05\n",
      "Epoch 98/100\n",
      "\u001b[1m57/57\u001b[0m \u001b[32m━━━━━━━━━━━━━━━━━━━━\u001b[0m\u001b[37m\u001b[0m \u001b[1m3s\u001b[0m 46ms/step - loss: 0.0356 - mean_absolute_error: 0.0705 - val_loss: 0.0316 - val_mean_absolute_error: 0.0576 - learning_rate: 5.0000e-05\n",
      "Epoch 99/100\n",
      "\u001b[1m57/57\u001b[0m \u001b[32m━━━━━━━━━━━━━━━━━━━━\u001b[0m\u001b[37m\u001b[0m \u001b[1m5s\u001b[0m 48ms/step - loss: 0.0361 - mean_absolute_error: 0.0739 - val_loss: 0.0293 - val_mean_absolute_error: 0.0423 - learning_rate: 5.0000e-05\n",
      "Epoch 100/100\n",
      "\u001b[1m57/57\u001b[0m \u001b[32m━━━━━━━━━━━━━━━━━━━━\u001b[0m\u001b[37m\u001b[0m \u001b[1m3s\u001b[0m 46ms/step - loss: 0.0346 - mean_absolute_error: 0.0691 - val_loss: 0.0274 - val_mean_absolute_error: 0.0338 - learning_rate: 2.5000e-05\n"
     ]
    }
   ],
   "source": [
    "# Step 7.4 - Build and Train the LSTM Model\n",
    "# Model Architecture\n",
    "input_layer = Input(shape=(X_train.shape[1], X_train.shape[2]))\n",
    "\n",
    "# LSTM with more units and regularization\n",
    "x = Bidirectional(LSTM(50, return_sequences=True, kernel_regularizer=l2(0.01)))(input_layer)  # Increased units & L2 regularization\n",
    "x = Dropout(0.3)(x)  # Adjusted Dropout rate\n",
    "x = BatchNormalization()(x)\n",
    "\n",
    "# Attention Layer\n",
    "attention_output = Attention()(x)\n",
    "x = Dense(1)(attention_output)\n",
    "output = Activation('linear')(x)\n",
    "\n",
    "model = Model(inputs=input_layer, outputs=output)\n",
    "\n",
    "# Compile the model with a lower learning rate\n",
    "optimizer = Adam(learning_rate=0.00005)  # Lowered learning rate\n",
    "model.compile(loss='mean_squared_error', optimizer=optimizer, metrics=['mean_absolute_error'])\n",
    "\n",
    "# Callbacks with adjusted patience values\n",
    "early_stop = EarlyStopping(monitor='val_loss', patience=15, restore_best_weights=True)  # Increased patience\n",
    "reduce_lr = ReduceLROnPlateau(monitor='val_loss', patience=4, factor=0.5)  # Increased patience\n",
    "\n",
    "# Train the model\n",
    "history = model.fit(\n",
    "    X_train, y_train,\n",
    "    validation_data=(X_test, y_test),\n",
    "    epochs=100,  # Increased epochs for more learning\n",
    "    batch_size=64,\n",
    "    callbacks=[early_stop, reduce_lr],\n",
    "    verbose=1\n",
    ")"
   ]
  },
  {
   "cell_type": "markdown",
   "id": "f41cbb9f",
   "metadata": {
    "papermill": {
     "duration": 0.193915,
     "end_time": "2025-05-04T11:10:49.294035",
     "exception": false,
     "start_time": "2025-05-04T11:10:49.100120",
     "status": "completed"
    },
    "tags": []
   },
   "source": [
    "# Step 8: Evaluate Model and Calculate Metrics\n"
   ]
  },
  {
   "cell_type": "markdown",
   "id": "4c5fce48",
   "metadata": {
    "papermill": {
     "duration": 0.190207,
     "end_time": "2025-05-04T11:10:49.677700",
     "exception": false,
     "start_time": "2025-05-04T11:10:49.487493",
     "status": "completed"
    },
    "tags": []
   },
   "source": [
    "# Step 8.1 - Make Predictions\n",
    "\n"
   ]
  },
  {
   "cell_type": "code",
   "execution_count": 22,
   "id": "9d4d9f53",
   "metadata": {
    "execution": {
     "iopub.execute_input": "2025-05-04T11:10:50.040527Z",
     "iopub.status.busy": "2025-05-04T11:10:50.040078Z",
     "iopub.status.idle": "2025-05-04T11:10:51.426219Z",
     "shell.execute_reply": "2025-05-04T11:10:51.425095Z"
    },
    "papermill": {
     "duration": 1.572201,
     "end_time": "2025-05-04T11:10:51.428080",
     "exception": false,
     "start_time": "2025-05-04T11:10:49.855879",
     "status": "completed"
    },
    "tags": []
   },
   "outputs": [
    {
     "name": "stdout",
     "output_type": "stream",
     "text": [
      "\u001b[1m13/13\u001b[0m \u001b[32m━━━━━━━━━━━━━━━━━━━━\u001b[0m\u001b[37m\u001b[0m \u001b[1m1s\u001b[0m 59ms/step\n"
     ]
    }
   ],
   "source": [
    "# Step 8.1 - Make predictions on the test set\n",
    "y_pred = model.predict(X_test)\n"
   ]
  },
  {
   "cell_type": "markdown",
   "id": "35b7ac6f",
   "metadata": {
    "papermill": {
     "duration": 0.207465,
     "end_time": "2025-05-04T11:10:51.833190",
     "exception": false,
     "start_time": "2025-05-04T11:10:51.625725",
     "status": "completed"
    },
    "tags": []
   },
   "source": [
    "# Step 8.2 - Inverse Transform (if you scaled 'Close')\n",
    "If you scaled the target variable (Close) using MinMaxScaler, you’ll need to inverse transform it. Otherwise, skip this step.\n",
    "\n",
    "\n"
   ]
  },
  {
   "cell_type": "code",
   "execution_count": 23,
   "id": "0b6f61ac",
   "metadata": {
    "execution": {
     "iopub.execute_input": "2025-05-04T11:10:52.278861Z",
     "iopub.status.busy": "2025-05-04T11:10:52.278416Z",
     "iopub.status.idle": "2025-05-04T11:10:52.293267Z",
     "shell.execute_reply": "2025-05-04T11:10:52.292108Z"
    },
    "papermill": {
     "duration": 0.198797,
     "end_time": "2025-05-04T11:10:52.295112",
     "exception": false,
     "start_time": "2025-05-04T11:10:52.096315",
     "status": "completed"
    },
    "tags": []
   },
   "outputs": [],
   "source": [
    "df_normalized = scaler.fit_transform(merged_data[['Open', 'High', 'Low', 'Close', 'Volume']])\n",
    "# Step 8.2 - Create a scaler fit only on 'Close' to inverse-transform predictions\n",
    "close_scaler = MinMaxScaler()\n",
    "close_scaler.fit(merged_data[['Close']])  # Fit only on 'Close'\n",
    "\n",
    "# Step 8.2.1 - Inverse transform predictions and actual values\n",
    "y_test_inverse = close_scaler.inverse_transform(y_test.reshape(-1, 1))\n",
    "y_pred_inverse = close_scaler.inverse_transform(y_pred)\n"
   ]
  },
  {
   "cell_type": "markdown",
   "id": "f2b7f930",
   "metadata": {
    "papermill": {
     "duration": 0.186039,
     "end_time": "2025-05-04T11:10:52.663276",
     "exception": false,
     "start_time": "2025-05-04T11:10:52.477237",
     "status": "completed"
    },
    "tags": []
   },
   "source": [
    "# Step 8.3 - Evaluate Model Performance\n"
   ]
  },
  {
   "cell_type": "code",
   "execution_count": 24,
   "id": "ebc62580",
   "metadata": {
    "execution": {
     "iopub.execute_input": "2025-05-04T11:10:53.039039Z",
     "iopub.status.busy": "2025-05-04T11:10:53.037993Z",
     "iopub.status.idle": "2025-05-04T11:10:53.046345Z",
     "shell.execute_reply": "2025-05-04T11:10:53.045003Z"
    },
    "papermill": {
     "duration": 0.199174,
     "end_time": "2025-05-04T11:10:53.047841",
     "exception": false,
     "start_time": "2025-05-04T11:10:52.848667",
     "status": "completed"
    },
    "tags": []
   },
   "outputs": [
    {
     "name": "stdout",
     "output_type": "stream",
     "text": [
      "Mean Absolute Error (MAE): 6.801632115631103\n",
      "Mean Squared Error (MSE): 71.79061909195985\n",
      "Root Mean Squared Error (RMSE): 8.472934502990086\n",
      "R-squared: 0.9646517610141636\n"
     ]
    }
   ],
   "source": [
    "# Step 8.3 - Evaluate performance using MAE, MSE, RMSE\n",
    "from sklearn.metrics import mean_absolute_error, mean_squared_error, r2_score\n",
    "import numpy as np\n",
    "\n",
    "# Step 8.3 - Evaluate model performance\n",
    "mae = mean_absolute_error(y_test_inverse, y_pred_inverse)\n",
    "mse = mean_squared_error(y_test_inverse, y_pred_inverse)\n",
    "rmse = np.sqrt(mse)\n",
    "r2 = r2_score(y_test_inverse, y_pred_inverse)\n",
    "\n",
    "# Print all evaluation metrics\n",
    "print(f\"Mean Absolute Error (MAE): {mae}\")\n",
    "print(f\"Mean Squared Error (MSE): {mse}\")\n",
    "print(f\"Root Mean Squared Error (RMSE): {rmse}\")\n",
    "print(f\"R-squared: {r2}\")\n"
   ]
  },
  {
   "cell_type": "markdown",
   "id": "e35788fe",
   "metadata": {
    "papermill": {
     "duration": 0.179487,
     "end_time": "2025-05-04T11:10:53.412967",
     "exception": false,
     "start_time": "2025-05-04T11:10:53.233480",
     "status": "completed"
    },
    "tags": []
   },
   "source": [
    "# Step 8.4 - Visualize Predictions vs Actual\n",
    "\n"
   ]
  },
  {
   "cell_type": "code",
   "execution_count": 25,
   "id": "31579879",
   "metadata": {
    "execution": {
     "iopub.execute_input": "2025-05-04T11:10:53.894830Z",
     "iopub.status.busy": "2025-05-04T11:10:53.894420Z",
     "iopub.status.idle": "2025-05-04T11:10:54.341428Z",
     "shell.execute_reply": "2025-05-04T11:10:54.340082Z"
    },
    "papermill": {
     "duration": 0.718592,
     "end_time": "2025-05-04T11:10:54.343900",
     "exception": false,
     "start_time": "2025-05-04T11:10:53.625308",
     "status": "completed"
    },
    "tags": []
   },
   "outputs": [
    {
     "data": {
      "image/png": "[encoded data removed]",
      "text/plain": [
       "<Figure size 1200x600 with 1 Axes>"
      ]
     },
     "metadata": {},
     "output_type": "display_data"
    }
   ],
   "source": [
    "import matplotlib.pyplot as plt\n",
    "\n",
    "# Plot Training and Validation Loss\n",
    "plt.figure(figsize=(12, 6))\n",
    "plt.plot(history.history['loss'], label='Training Loss', color='blue', linewidth=2)\n",
    "plt.plot(history.history['val_loss'], label='Validation Loss', color='orange', linewidth=2)\n",
    "plt.title('Training vs Validation Loss Curve', fontsize=16)\n",
    "plt.xlabel('Epochs', fontsize=14)\n",
    "plt.ylabel('Loss (MSE)', fontsize=14)\n",
    "plt.legend(fontsize=12)\n",
    "plt.grid(True, linestyle='--', alpha=0.6)\n",
    "plt.tight_layout()\n",
    "plt.show()\n"
   ]
  },
  {
   "cell_type": "code",
   "execution_count": 26,
   "id": "8a1a1d16",
   "metadata": {
    "execution": {
     "iopub.execute_input": "2025-05-04T11:10:54.721960Z",
     "iopub.status.busy": "2025-05-04T11:10:54.721638Z",
     "iopub.status.idle": "2025-05-04T11:10:54.954229Z",
     "shell.execute_reply": "2025-05-04T11:10:54.953152Z"
    },
    "papermill": {
     "duration": 0.416807,
     "end_time": "2025-05-04T11:10:54.956426",
     "exception": false,
     "start_time": "2025-05-04T11:10:54.539619",
     "status": "completed"
    },
    "tags": []
   },
   "outputs": [
    {
     "data": {
      "image/png": "[encoded data removed]",
      "text/plain": [
       "<Figure size 1000x600 with 1 Axes>"
      ]
     },
     "metadata": {},
     "output_type": "display_data"
    }
   ],
   "source": [
    "# Step 8.4 - Visualize actual vs predicted stock prices\n",
    "import matplotlib.pyplot as plt\n",
    "\n",
    "plt.figure(figsize=(10, 6))\n",
    "plt.plot(y_test[:100], label='Actual', color='blue')\n",
    "plt.plot(y_pred[:100], label='Predicted', color='red')\n",
    "plt.title('Actual vs Predicted Stock Prices (Sample of 100)')\n",
    "plt.xlabel('Time Step')\n",
    "plt.ylabel('Stock Price (Scaled)')\n",
    "plt.legend()\n",
    "plt.grid(True)\n",
    "plt.show()\n"
   ]
  }
 ],
 "metadata": {
  "kaggle": {
   "accelerator": "none",
   "dataSources": [
    {
     "datasetId": 7181439,
     "sourceId": 11460885,
     "sourceType": "datasetVersion"
    }
   ],
   "dockerImageVersionId": 31012,
   "isGpuEnabled": false,
   "isInternetEnabled": true,
   "language": "python",
   "sourceType": "notebook"
  },
  "kernelspec": {
   "display_name": "Python 3",
   "language": "python",
   "name": "python3"
  },
  "language_info": {
   "codemirror_mode": {
    "name": "ipython",
    "version": 3
   },
   "file_extension": ".py",
   "mimetype": "text/x-python",
   "name": "python",
   "nbconvert_exporter": "python",
   "pygments_lexer": "ipython3",
   "version": "3.11.11"
  },
  "papermill": {
   "default_parameters": {},
   "duration": 333.570694,
   "end_time": "2025-05-04T11:10:58.120860",
   "environment_variables": {},
   "exception": null,
   "input_path": "__notebook__.ipynb",
   "output_path": "__notebook__.ipynb",
   "parameters": {},
   "start_time": "2025-05-04T11:05:24.550166",
   "version": "2.6.0"
  }
 },
 "nbformat": 4,
 "nbformat_minor": 5
}
